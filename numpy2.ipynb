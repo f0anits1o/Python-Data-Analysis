{
 "cells": [
  {
   "cell_type": "code",
   "execution_count": 1,
   "id": "ea1f1edf-7f5a-4725-8904-23dca0ac03ed",
   "metadata": {},
   "outputs": [],
   "source": [
    "import numpy as np"
   ]
  },
  {
   "cell_type": "code",
   "execution_count": 2,
   "id": "3c649c76-17a3-462e-8762-0e1797ecd2b8",
   "metadata": {},
   "outputs": [
    {
     "name": "stdout",
     "output_type": "stream",
     "text": [
      "[[ 2  6  7  3]\n",
      " [43  6 54 90]]\n"
     ]
    }
   ],
   "source": [
    "#create array from python list\n",
    "a = np.array([[ 2, 6, 7, 3], [43, 6, 54, 90]])\n",
    "print(a);"
   ]
  },
  {
   "cell_type": "code",
   "execution_count": 3,
   "id": "b286a84d-d92b-4d34-811f-9cfab1a46d5d",
   "metadata": {},
   "outputs": [
    {
     "data": {
      "text/plain": [
       "array([[ 2,  6,  7,  3],\n",
       "       [43,  6, 54, 90]])"
      ]
     },
     "execution_count": 3,
     "metadata": {},
     "output_type": "execute_result"
    }
   ],
   "source": [
    "a"
   ]
  },
  {
   "cell_type": "code",
   "execution_count": 4,
   "id": "e2e583c6-821f-4a8f-9af5-8503d5355ece",
   "metadata": {},
   "outputs": [],
   "source": [
    "#creating array from list comprehension\n",
    "y = np.array([range(i, i + 3) for i in [2, 4, 6]])"
   ]
  },
  {
   "cell_type": "code",
   "execution_count": 5,
   "id": "b86b86d8-41bf-4038-ba1b-a85807a9d31a",
   "metadata": {},
   "outputs": [
    {
     "data": {
      "text/plain": [
       "array([[2, 3, 4],\n",
       "       [4, 5, 6],\n",
       "       [6, 7, 8]])"
      ]
     },
     "execution_count": 5,
     "metadata": {},
     "output_type": "execute_result"
    }
   ],
   "source": [
    "y"
   ]
  },
  {
   "cell_type": "markdown",
   "id": "9190f759-b04b-48aa-b3c7-c802173caddd",
   "metadata": {},
   "source": [
    "### Creating Array from Scratch"
   ]
  },
  {
   "cell_type": "markdown",
   "id": "8dbcc003-6df3-49bf-92f2-78d1824441da",
   "metadata": {},
   "source": [
    "- scratch ~ zeros, ones, full, arange ..."
   ]
  },
  {
   "cell_type": "code",
   "execution_count": 6,
   "id": "c239da9a-34c9-4a69-b41f-94ce6a7d5d7b",
   "metadata": {},
   "outputs": [
    {
     "data": {
      "text/plain": [
       "array([0, 0, 0, 0, 0, 0, 0, 0, 0, 0])"
      ]
     },
     "execution_count": 6,
     "metadata": {},
     "output_type": "execute_result"
    }
   ],
   "source": [
    "np.zeros(10, dtype=int)"
   ]
  },
  {
   "cell_type": "code",
   "execution_count": 7,
   "id": "ddcb60be-c0a8-4cc8-ab0d-38a2177cf335",
   "metadata": {},
   "outputs": [
    {
     "data": {
      "text/plain": [
       "array([[1., 1., 1., 1., 1.],\n",
       "       [1., 1., 1., 1., 1.],\n",
       "       [1., 1., 1., 1., 1.]])"
      ]
     },
     "execution_count": 7,
     "metadata": {},
     "output_type": "execute_result"
    }
   ],
   "source": [
    "np.ones((3, 5), dtype=float)"
   ]
  },
  {
   "cell_type": "code",
   "execution_count": 8,
   "id": "4afa0749-08c0-46e8-b415-b8c34fa1a672",
   "metadata": {},
   "outputs": [
    {
     "data": {
      "text/plain": [
       "array([[3.14, 3.14, 3.14, 3.14, 3.14],\n",
       "       [3.14, 3.14, 3.14, 3.14, 3.14],\n",
       "       [3.14, 3.14, 3.14, 3.14, 3.14]])"
      ]
     },
     "execution_count": 8,
     "metadata": {},
     "output_type": "execute_result"
    }
   ],
   "source": [
    "np.full((3, 5), 3.14)"
   ]
  },
  {
   "cell_type": "code",
   "execution_count": 9,
   "id": "039a7882-dd88-4f29-b4dd-2c815ac893f7",
   "metadata": {},
   "outputs": [
    {
     "data": {
      "text/plain": [
       "array([0.  , 0.25, 0.5 , 0.75, 1.  ])"
      ]
     },
     "execution_count": 9,
     "metadata": {},
     "output_type": "execute_result"
    }
   ],
   "source": [
    "np.linspace(0, 1, 5)"
   ]
  },
  {
   "cell_type": "code",
   "execution_count": 10,
   "id": "d3e5e0d0-a7bc-44c0-bcba-cecfefc5c634",
   "metadata": {},
   "outputs": [
    {
     "data": {
      "text/plain": [
       "array([[[0.24299034, 0.53650235, 0.65763009],\n",
       "        [0.65833448, 0.05184605, 0.7032452 ],\n",
       "        [0.89553783, 0.0634125 , 0.90061304]],\n",
       "\n",
       "       [[0.35981371, 0.23078925, 0.30176456],\n",
       "        [0.23724723, 0.86014916, 0.23217431],\n",
       "        [0.00234192, 0.477765  , 0.41100719]],\n",
       "\n",
       "       [[0.43096601, 0.315875  , 0.61789457],\n",
       "        [0.61703132, 0.66030102, 0.4059523 ],\n",
       "        [0.07454439, 0.33770626, 0.08539821]]])"
      ]
     },
     "execution_count": 10,
     "metadata": {},
     "output_type": "execute_result"
    }
   ],
   "source": [
    "np.random.random((3, 3, 3))"
   ]
  },
  {
   "cell_type": "code",
   "execution_count": 11,
   "id": "4169e739-53c5-4962-93fe-7c9647c8cfc4",
   "metadata": {},
   "outputs": [
    {
     "data": {
      "text/plain": [
       "array([[0.95065385, 0.04802069, 0.57923767],\n",
       "       [0.9481731 , 0.06828247, 0.068352  ],\n",
       "       [0.29453018, 0.8900709 , 0.37027537]])"
      ]
     },
     "execution_count": 11,
     "metadata": {},
     "output_type": "execute_result"
    }
   ],
   "source": [
    "np.random.rand(3, 3)"
   ]
  },
  {
   "cell_type": "code",
   "execution_count": 12,
   "id": "9fa0d6a7-b040-499b-abe0-43098f168276",
   "metadata": {},
   "outputs": [
    {
     "data": {
      "text/plain": [
       "array([[-0.79798204, -1.30739314, -1.48972844],\n",
       "       [-0.06343723,  1.92419992, -0.30530321],\n",
       "       [-0.83492937,  2.16241857,  1.41967929]])"
      ]
     },
     "execution_count": 12,
     "metadata": {},
     "output_type": "execute_result"
    }
   ],
   "source": [
    "Normal = np.random.normal(0, 1, (3, 3))\n",
    "Normal"
   ]
  },
  {
   "cell_type": "code",
   "execution_count": 13,
   "id": "155c4de9-51a6-4578-96c0-646d6c975470",
   "metadata": {},
   "outputs": [
    {
     "data": {
      "text/plain": [
       "(0.07861381865187227, 1.320696444340943)"
      ]
     },
     "execution_count": 13,
     "metadata": {},
     "output_type": "execute_result"
    }
   ],
   "source": [
    "np.mean(Normal), np.std(Normal)"
   ]
  },
  {
   "cell_type": "code",
   "execution_count": 14,
   "id": "d44e0330-0195-4f2b-9df9-a3ec6b3c3c3d",
   "metadata": {},
   "outputs": [
    {
     "data": {
      "text/plain": [
       "array([[2, 5, 8],\n",
       "       [7, 1, 9],\n",
       "       [1, 6, 1]])"
      ]
     },
     "execution_count": 14,
     "metadata": {},
     "output_type": "execute_result"
    }
   ],
   "source": [
    "np.random.randint(0, 10, (3, 3))"
   ]
  },
  {
   "cell_type": "code",
   "execution_count": 14,
   "id": "0d5d03f5-755c-49a5-b6e3-52ebd8e66e5b",
   "metadata": {},
   "outputs": [
    {
     "data": {
      "text/plain": [
       "array([[1., 0., 0.],\n",
       "       [0., 1., 0.],\n",
       "       [0., 0., 1.]])"
      ]
     },
     "execution_count": 14,
     "metadata": {},
     "output_type": "execute_result"
    }
   ],
   "source": [
    "np.eye(3)"
   ]
  },
  {
   "cell_type": "code",
   "execution_count": 15,
   "id": "02f66d75-fe7c-4a3d-8754-a1f0576cf467",
   "metadata": {},
   "outputs": [
    {
     "data": {
      "text/plain": [
       "array([1., 1., 1.])"
      ]
     },
     "execution_count": 15,
     "metadata": {},
     "output_type": "execute_result"
    }
   ],
   "source": [
    "np.empty(3)"
   ]
  },
  {
   "cell_type": "markdown",
   "id": "b307754c-8788-44ac-97f4-81b7cd6fb8d2",
   "metadata": {},
   "source": [
    "## The Basics of NumPy Arrays"
   ]
  },
  {
   "cell_type": "markdown",
   "id": "5c50fda6-f79e-493c-863d-d394d85a5556",
   "metadata": {},
   "source": [
    "## The Basics of NumPy Arrays"
   ]
  },
  {
   "cell_type": "code",
   "execution_count": 16,
   "id": "93ba75c0-2463-403f-992f-4cbf6e6df156",
   "metadata": {},
   "outputs": [],
   "source": [
    "np.random.seed(0) # seed for reproducibility\n",
    "x1 = np.random.randint(10, size=6) # One-dimensional array\n",
    "x2 = np.random.randint(10, size=(3, 4)) # Two-dimensional array\n",
    "x3 = np.random.randint(10, size=(3, 4, 5)) # Three-dimensional array"
   ]
  },
  {
   "cell_type": "code",
   "execution_count": 17,
   "id": "845a681b-c374-4f21-a166-58aad7ced5db",
   "metadata": {},
   "outputs": [
    {
     "name": "stdout",
     "output_type": "stream",
     "text": [
      "x3 ndim:  3\n",
      "x3 shape: (3, 4, 5)\n",
      "x3 size:  60\n"
     ]
    }
   ],
   "source": [
    "print(\"x3 ndim: \", x3.ndim)\n",
    "print(\"x3 shape:\", x3.shape)\n",
    "print(\"x3 size: \", x3.size)"
   ]
  },
  {
   "cell_type": "code",
   "execution_count": 18,
   "id": "ed87475a-b0bf-4993-b544-b9f44232a62c",
   "metadata": {},
   "outputs": [
    {
     "name": "stdout",
     "output_type": "stream",
     "text": [
      "[[3 5 2 4]\n",
      " [7 6 8 8]\n",
      " [1 6 7 7]]\n"
     ]
    }
   ],
   "source": [
    "print(x2)"
   ]
  },
  {
   "cell_type": "code",
   "execution_count": 19,
   "id": "c432fc6d-82c8-467e-8997-cdceec88fa0e",
   "metadata": {},
   "outputs": [
    {
     "data": {
      "text/plain": [
       "array([5, 0, 3, 3, 7, 9])"
      ]
     },
     "execution_count": 19,
     "metadata": {},
     "output_type": "execute_result"
    }
   ],
   "source": [
    "x1"
   ]
  },
  {
   "cell_type": "code",
   "execution_count": 20,
   "id": "508ae111-6b2c-41d7-bd0b-a7f099f6b822",
   "metadata": {},
   "outputs": [
    {
     "data": {
      "text/plain": [
       "6"
      ]
     },
     "execution_count": 20,
     "metadata": {},
     "output_type": "execute_result"
    }
   ],
   "source": [
    "len(x1)"
   ]
  },
  {
   "cell_type": "markdown",
   "id": "5a571d37-f13d-4515-819f-d5e322247473",
   "metadata": {},
   "source": [
    "### Array Indexing: Accessing Single Elements"
   ]
  },
  {
   "cell_type": "code",
   "execution_count": 21,
   "id": "359dd594-d64d-42a1-836e-e87345eb67f2",
   "metadata": {},
   "outputs": [
    {
     "data": {
      "text/plain": [
       "3"
      ]
     },
     "execution_count": 21,
     "metadata": {},
     "output_type": "execute_result"
    }
   ],
   "source": [
    "x2[0, 0]"
   ]
  },
  {
   "cell_type": "code",
   "execution_count": 22,
   "id": "195aa09c-c9fc-4343-aa05-be6aa8a37193",
   "metadata": {},
   "outputs": [
    {
     "data": {
      "text/plain": [
       "5"
      ]
     },
     "execution_count": 22,
     "metadata": {},
     "output_type": "execute_result"
    }
   ],
   "source": [
    "x1[0]"
   ]
  },
  {
   "cell_type": "code",
   "execution_count": 23,
   "id": "e081f6c9-ade4-4c9f-b32a-b75be1a88823",
   "metadata": {},
   "outputs": [
    {
     "data": {
      "text/plain": [
       "9"
      ]
     },
     "execution_count": 23,
     "metadata": {},
     "output_type": "execute_result"
    }
   ],
   "source": [
    "x1[-1]"
   ]
  },
  {
   "cell_type": "code",
   "execution_count": 24,
   "id": "1ca4a8dd-329d-4ace-8247-d402e16e2ab0",
   "metadata": {},
   "outputs": [
    {
     "name": "stdout",
     "output_type": "stream",
     "text": [
      "[[12  5  2  4]\n",
      " [ 7  6  8  8]\n",
      " [ 1  6  7  7]]\n"
     ]
    }
   ],
   "source": [
    "x2[0, 0] = 12\n",
    "print(x2)"
   ]
  },
  {
   "cell_type": "code",
   "execution_count": 25,
   "id": "f3254abb-dfd0-4167-9cb9-18c348d175d3",
   "metadata": {},
   "outputs": [
    {
     "name": "stdout",
     "output_type": "stream",
     "text": [
      "[3 0 3 3 7 9]\n"
     ]
    }
   ],
   "source": [
    "x1[0] = 3.14159 # this will be truncated!\n",
    "print(x1)"
   ]
  },
  {
   "cell_type": "code",
   "execution_count": 26,
   "id": "c4b1d997-cff6-42c3-ba55-f9d55a24be79",
   "metadata": {},
   "outputs": [
    {
     "data": {
      "text/plain": [
       "array([3, 0, 3, 3, 7, 9])"
      ]
     },
     "execution_count": 26,
     "metadata": {},
     "output_type": "execute_result"
    }
   ],
   "source": [
    "x1"
   ]
  },
  {
   "cell_type": "code",
   "execution_count": 27,
   "id": "fe882e11-12c2-4e93-af92-b969aa2f81df",
   "metadata": {},
   "outputs": [
    {
     "name": "stdout",
     "output_type": "stream",
     "text": [
      "[141   0   3   3   7   9]\n"
     ]
    }
   ],
   "source": [
    "x1[0] = 141 # this will be truncated!\n",
    "print(x1)"
   ]
  },
  {
   "cell_type": "markdown",
   "id": "46f4deca-6342-4128-9bd5-ce21a042f4d8",
   "metadata": {},
   "source": [
    "### Array Slicing: Accessing Subarrays"
   ]
  },
  {
   "cell_type": "markdown",
   "id": "71583266-28bb-469d-a398-19a686b572a0",
   "metadata": {},
   "source": [
    "#### One-dimensional subarrays"
   ]
  },
  {
   "cell_type": "code",
   "execution_count": 28,
   "id": "b475667d-073c-43a1-ba97-9132f9f0b3a5",
   "metadata": {},
   "outputs": [
    {
     "data": {
      "text/plain": [
       "array([0, 1, 2, 3, 4, 5, 6, 7, 8, 9])"
      ]
     },
     "execution_count": 28,
     "metadata": {},
     "output_type": "execute_result"
    }
   ],
   "source": [
    "x = np.arange(10) # arange is a short for array range\n",
    "x"
   ]
  },
  {
   "cell_type": "code",
   "execution_count": 29,
   "id": "65d306b4-8172-42a1-9f1f-33bdaafa213b",
   "metadata": {},
   "outputs": [
    {
     "data": {
      "text/plain": [
       "array([0, 1, 2, 3, 4])"
      ]
     },
     "execution_count": 29,
     "metadata": {},
     "output_type": "execute_result"
    }
   ],
   "source": [
    "x[:5]"
   ]
  },
  {
   "cell_type": "code",
   "execution_count": 30,
   "id": "b6e970e6-ef93-4d7a-b472-967d2d348715",
   "metadata": {},
   "outputs": [
    {
     "data": {
      "text/plain": [
       "array([5, 6, 7, 8, 9])"
      ]
     },
     "execution_count": 30,
     "metadata": {},
     "output_type": "execute_result"
    }
   ],
   "source": [
    "x[5:]"
   ]
  },
  {
   "cell_type": "code",
   "execution_count": 31,
   "id": "51d769bf-3393-4f4b-9ceb-440a276fd488",
   "metadata": {},
   "outputs": [
    {
     "data": {
      "text/plain": [
       "array([4, 5, 6])"
      ]
     },
     "execution_count": 31,
     "metadata": {},
     "output_type": "execute_result"
    }
   ],
   "source": [
    "x[4:7]"
   ]
  },
  {
   "cell_type": "code",
   "execution_count": 32,
   "id": "ffaadcf0-b8d1-4da3-82cd-f6b03b30f263",
   "metadata": {},
   "outputs": [
    {
     "data": {
      "text/plain": [
       "array([0, 2, 4, 6, 8])"
      ]
     },
     "execution_count": 32,
     "metadata": {},
     "output_type": "execute_result"
    }
   ],
   "source": [
    "x[::2]"
   ]
  },
  {
   "cell_type": "code",
   "execution_count": 33,
   "id": "af6c7e1e-80da-4906-9ad5-9c76ca1918c1",
   "metadata": {},
   "outputs": [
    {
     "data": {
      "text/plain": [
       "array([1, 3, 5, 7, 9])"
      ]
     },
     "execution_count": 33,
     "metadata": {},
     "output_type": "execute_result"
    }
   ],
   "source": [
    "x[1::2]"
   ]
  },
  {
   "cell_type": "code",
   "execution_count": 34,
   "id": "531f3daa-a240-4837-846a-6ea7a0aa188a",
   "metadata": {},
   "outputs": [
    {
     "data": {
      "text/plain": [
       "array([9, 8, 7, 6, 5, 4, 3, 2, 1, 0])"
      ]
     },
     "execution_count": 34,
     "metadata": {},
     "output_type": "execute_result"
    }
   ],
   "source": [
    "x[::-1]"
   ]
  },
  {
   "cell_type": "code",
   "execution_count": 35,
   "id": "569fab35-31ac-45cd-9e46-e850666f4699",
   "metadata": {},
   "outputs": [
    {
     "data": {
      "text/plain": [
       "array([5, 3, 1])"
      ]
     },
     "execution_count": 35,
     "metadata": {},
     "output_type": "execute_result"
    }
   ],
   "source": [
    "x[5::-2]"
   ]
  },
  {
   "cell_type": "markdown",
   "id": "041ebe3b-147a-459a-8557-4815874cedab",
   "metadata": {},
   "source": [
    "#### Multi-dimensional subarrays"
   ]
  },
  {
   "cell_type": "code",
   "execution_count": 36,
   "id": "6750397c-4b52-4e0e-84dc-2b225d59a45f",
   "metadata": {},
   "outputs": [
    {
     "data": {
      "text/plain": [
       "array([[12,  5,  2],\n",
       "       [ 7,  6,  8]])"
      ]
     },
     "execution_count": 36,
     "metadata": {},
     "output_type": "execute_result"
    }
   ],
   "source": [
    "x2[:2, :3]"
   ]
  },
  {
   "cell_type": "code",
   "execution_count": 37,
   "id": "90504638-999c-43c4-8af2-750dd42ff986",
   "metadata": {},
   "outputs": [
    {
     "data": {
      "text/plain": [
       "array([[12,  5,  2,  4],\n",
       "       [ 7,  6,  8,  8],\n",
       "       [ 1,  6,  7,  7]])"
      ]
     },
     "execution_count": 37,
     "metadata": {},
     "output_type": "execute_result"
    }
   ],
   "source": [
    "x2"
   ]
  },
  {
   "cell_type": "code",
   "execution_count": 38,
   "id": "dba343ac-200f-45a1-9fb1-c9891c060624",
   "metadata": {},
   "outputs": [
    {
     "data": {
      "text/plain": [
       "array([[12,  2],\n",
       "       [ 7,  8],\n",
       "       [ 1,  7]])"
      ]
     },
     "execution_count": 38,
     "metadata": {},
     "output_type": "execute_result"
    }
   ],
   "source": [
    "x2[:3, ::2]"
   ]
  },
  {
   "cell_type": "code",
   "execution_count": 39,
   "id": "9c7e3dd7-8aff-4420-9dea-00071e02fb5b",
   "metadata": {},
   "outputs": [
    {
     "data": {
      "text/plain": [
       "array([[ 7,  7,  6,  1],\n",
       "       [ 8,  8,  6,  7],\n",
       "       [ 4,  2,  5, 12]])"
      ]
     },
     "execution_count": 39,
     "metadata": {},
     "output_type": "execute_result"
    }
   ],
   "source": [
    "x2[::-1, ::-1]"
   ]
  },
  {
   "cell_type": "markdown",
   "id": "5c81ff2c-a3e9-4125-b07c-d07573994281",
   "metadata": {},
   "source": [
    "#### Accessing array rows and columns"
   ]
  },
  {
   "cell_type": "code",
   "execution_count": 40,
   "id": "6501089f-dcc5-47f6-adf4-fe3014f9f45f",
   "metadata": {},
   "outputs": [
    {
     "name": "stdout",
     "output_type": "stream",
     "text": [
      "[12  7  1]\n"
     ]
    }
   ],
   "source": [
    "print(x2[:, 0]) # fakana vecteur colonne"
   ]
  },
  {
   "cell_type": "code",
   "execution_count": 41,
   "id": "218b759f-1bbc-4e7a-b3ef-f203ddf8bb4a",
   "metadata": {},
   "outputs": [
    {
     "name": "stdout",
     "output_type": "stream",
     "text": [
      "[12  5  2  4]\n"
     ]
    }
   ],
   "source": [
    "print(x2[0, :]) # fakana vecteur ligne"
   ]
  },
  {
   "cell_type": "code",
   "execution_count": 43,
   "id": "8f236961-807c-4dfa-9e80-9cd3f695a16d",
   "metadata": {},
   "outputs": [
    {
     "name": "stdout",
     "output_type": "stream",
     "text": [
      "[12  5  2  4]\n"
     ]
    }
   ],
   "source": [
    "print(x2[0])"
   ]
  },
  {
   "cell_type": "markdown",
   "id": "19e52c7c-66f2-40c4-9bf1-16c11d315f1c",
   "metadata": {},
   "source": [
    "##### Subarrays as no-copy views"
   ]
  },
  {
   "cell_type": "markdown",
   "id": "dd7690fb-abde-4c01-bb85-73fbb357253c",
   "metadata": {},
   "source": [
    "Let’s extract a 2 × 2 subarray from this:"
   ]
  },
  {
   "cell_type": "code",
   "execution_count": 44,
   "id": "5b5df2cf-8a52-471b-a781-ff72e0ed0d1a",
   "metadata": {},
   "outputs": [
    {
     "name": "stdout",
     "output_type": "stream",
     "text": [
      "[[12  5]\n",
      " [ 7  6]]\n"
     ]
    }
   ],
   "source": [
    "x2_sub = x2[:2, :2]\n",
    "print(x2_sub)"
   ]
  },
  {
   "cell_type": "code",
   "execution_count": 45,
   "id": "414e3a4a-a08e-4966-b424-f1af8608a08b",
   "metadata": {},
   "outputs": [
    {
     "name": "stdout",
     "output_type": "stream",
     "text": [
      "[[99  5]\n",
      " [ 7  6]]\n"
     ]
    }
   ],
   "source": [
    "x2_sub[0, 0] = 99\n",
    "print(x2_sub)"
   ]
  },
  {
   "cell_type": "code",
   "execution_count": 46,
   "id": "1a5f65c8-7df9-4cd0-b551-6e1f4e79a1ee",
   "metadata": {},
   "outputs": [
    {
     "name": "stdout",
     "output_type": "stream",
     "text": [
      "[[99  5  2  4]\n",
      " [ 7  6  8  8]\n",
      " [ 1  6  7  7]]\n"
     ]
    }
   ],
   "source": [
    "print(x2)"
   ]
  },
  {
   "cell_type": "markdown",
   "id": "ab032bb8-81b1-4ccd-aa69-d74dd26a1b12",
   "metadata": {},
   "source": [
    "##### Creating copies of arrays"
   ]
  },
  {
   "cell_type": "code",
   "execution_count": 47,
   "id": "7d9a31b5-b4d5-440f-9968-d2fc41593254",
   "metadata": {},
   "outputs": [],
   "source": [
    "x2_sub_copy = x2[:2, :2].copy()"
   ]
  },
  {
   "cell_type": "code",
   "execution_count": 48,
   "id": "f3900eb1-7ae4-4d2e-9aca-37b453ee8d48",
   "metadata": {},
   "outputs": [
    {
     "name": "stdout",
     "output_type": "stream",
     "text": [
      "[[99  5]\n",
      " [ 7  6]]\n"
     ]
    }
   ],
   "source": [
    "print(x2_sub_copy)"
   ]
  },
  {
   "cell_type": "code",
   "execution_count": 49,
   "id": "f340924f-64d2-44b3-a1fa-4819032a4b67",
   "metadata": {},
   "outputs": [
    {
     "name": "stdout",
     "output_type": "stream",
     "text": [
      "[[42  5]\n",
      " [ 7  6]]\n"
     ]
    }
   ],
   "source": [
    "x2_sub_copy[0, 0] = 42\n",
    "print(x2_sub_copy)"
   ]
  },
  {
   "cell_type": "code",
   "execution_count": 50,
   "id": "a15570ad-8be0-4475-8157-802da04a1b4e",
   "metadata": {},
   "outputs": [
    {
     "name": "stdout",
     "output_type": "stream",
     "text": [
      "[[99  5  2  4]\n",
      " [ 7  6  8  8]\n",
      " [ 1  6  7  7]]\n"
     ]
    }
   ],
   "source": [
    "print(x2)"
   ]
  },
  {
   "cell_type": "markdown",
   "id": "42072102-6257-4981-9fa8-8b5766e48c81",
   "metadata": {},
   "source": [
    "#### Reshaping of Arrays"
   ]
  },
  {
   "cell_type": "code",
   "execution_count": 51,
   "id": "d685edae-b2c3-41db-98d6-9d4df79d9fb2",
   "metadata": {},
   "outputs": [],
   "source": [
    "grid = np.arange(1, 10).reshape((3, 3))"
   ]
  },
  {
   "cell_type": "code",
   "execution_count": 52,
   "id": "0ba62938-baaf-4251-b012-b07925da38ad",
   "metadata": {},
   "outputs": [
    {
     "name": "stdout",
     "output_type": "stream",
     "text": [
      "[[1 2 3]\n",
      " [4 5 6]\n",
      " [7 8 9]]\n"
     ]
    }
   ],
   "source": [
    "print(grid)"
   ]
  },
  {
   "cell_type": "code",
   "execution_count": 53,
   "id": "3644ab3c-d5ab-4d17-9792-2ad3c2b36555",
   "metadata": {},
   "outputs": [
    {
     "data": {
      "text/plain": [
       "array([1, 2, 3])"
      ]
     },
     "execution_count": 53,
     "metadata": {},
     "output_type": "execute_result"
    }
   ],
   "source": [
    "x = np.array([1, 2, 3])\n",
    "x"
   ]
  },
  {
   "cell_type": "code",
   "execution_count": 54,
   "id": "e46aa2e1-0552-4078-bed7-31f75f741f9d",
   "metadata": {},
   "outputs": [
    {
     "name": "stdout",
     "output_type": "stream",
     "text": [
      "[1 2 3]\n"
     ]
    }
   ],
   "source": [
    "print(x)"
   ]
  },
  {
   "cell_type": "code",
   "execution_count": 55,
   "id": "f64cd00b-75ed-4183-b8fd-a7f0e32d2d4c",
   "metadata": {},
   "outputs": [
    {
     "data": {
      "text/plain": [
       "array([[1, 2, 3]])"
      ]
     },
     "execution_count": 55,
     "metadata": {},
     "output_type": "execute_result"
    }
   ],
   "source": [
    "x.reshape((1, 3))"
   ]
  },
  {
   "cell_type": "code",
   "execution_count": 56,
   "id": "c4774313-e730-45ce-a689-173288ce15bd",
   "metadata": {},
   "outputs": [
    {
     "name": "stdout",
     "output_type": "stream",
     "text": [
      "[[1 2 3]]\n"
     ]
    }
   ],
   "source": [
    "print(x.reshape((1, 3)))"
   ]
  },
  {
   "cell_type": "code",
   "execution_count": 57,
   "id": "2bb4e712-9890-4796-b6cf-4203f0ce9188",
   "metadata": {},
   "outputs": [
    {
     "data": {
      "text/plain": [
       "array([[1],\n",
       "       [2],\n",
       "       [3]])"
      ]
     },
     "execution_count": 57,
     "metadata": {},
     "output_type": "execute_result"
    }
   ],
   "source": [
    "x.reshape((3, 1))"
   ]
  },
  {
   "cell_type": "code",
   "execution_count": 58,
   "id": "051bf06e-ccaa-4ba4-8d15-93ee0503fcbc",
   "metadata": {},
   "outputs": [
    {
     "name": "stdout",
     "output_type": "stream",
     "text": [
      "[[1]\n",
      " [2]\n",
      " [3]]\n"
     ]
    }
   ],
   "source": [
    "print(x.reshape((3, 1)))"
   ]
  },
  {
   "cell_type": "code",
   "execution_count": 59,
   "id": "e40ddcf7-9b3b-47c4-9406-0ef6d8110cc0",
   "metadata": {},
   "outputs": [
    {
     "data": {
      "text/plain": [
       "array([[1, 2, 3]])"
      ]
     },
     "execution_count": 59,
     "metadata": {},
     "output_type": "execute_result"
    }
   ],
   "source": [
    "x[np.newaxis, :]"
   ]
  },
  {
   "cell_type": "code",
   "execution_count": 60,
   "id": "ffe046a1-d4b0-4324-a267-4270380fdfa0",
   "metadata": {},
   "outputs": [
    {
     "data": {
      "text/plain": [
       "array([[1],\n",
       "       [2],\n",
       "       [3]])"
      ]
     },
     "execution_count": 60,
     "metadata": {},
     "output_type": "execute_result"
    }
   ],
   "source": [
    "x[ :, np.newaxis]"
   ]
  },
  {
   "cell_type": "code",
   "execution_count": 61,
   "id": "ea9e53ba-2a64-4ec2-8796-f4d4d2c5dc5d",
   "metadata": {},
   "outputs": [
    {
     "data": {
      "text/plain": [
       "array([[12, 23, 54],\n",
       "       [90, 76, 83]])"
      ]
     },
     "execution_count": 61,
     "metadata": {},
     "output_type": "execute_result"
    }
   ],
   "source": [
    "x4 = np.array([[12, 23, 54], [90, 76, 83]])\n",
    "x4"
   ]
  },
  {
   "cell_type": "code",
   "execution_count": 62,
   "id": "40c724a5-ef22-4d73-92b6-e6a1196f9afc",
   "metadata": {},
   "outputs": [
    {
     "data": {
      "text/plain": [
       "array([[[12, 23, 54],\n",
       "        [90, 76, 83]]])"
      ]
     },
     "execution_count": 62,
     "metadata": {},
     "output_type": "execute_result"
    }
   ],
   "source": [
    "x4[np.newaxis, :]"
   ]
  },
  {
   "cell_type": "code",
   "execution_count": 63,
   "id": "ab53d0e3-4670-46ef-9a15-2a71a872aaad",
   "metadata": {},
   "outputs": [
    {
     "data": {
      "text/plain": [
       "array([[[12, 23, 54]],\n",
       "\n",
       "       [[90, 76, 83]]])"
      ]
     },
     "execution_count": 63,
     "metadata": {},
     "output_type": "execute_result"
    }
   ],
   "source": [
    "x4[ :, np.newaxis]"
   ]
  },
  {
   "cell_type": "markdown",
   "id": "019d2f86-a336-42ba-bd69-8cc30afd2a3b",
   "metadata": {},
   "source": [
    "### Array Concatenation and Splitting"
   ]
  },
  {
   "cell_type": "markdown",
   "id": "9967dd48-970a-4a45-9413-d680391e54c6",
   "metadata": {},
   "source": [
    "**Concatenation**, or **joining** of two arrays in NumPy, is primarily accomplished\n",
    "through the routines **np.concatenate, np.vstack, and np.hstack**. "
   ]
  },
  {
   "cell_type": "markdown",
   "id": "52fdb748-004c-4089-8d29-51f116ca0895",
   "metadata": {},
   "source": [
    "#### Concatenation of arrays"
   ]
  },
  {
   "cell_type": "markdown",
   "id": "b2498b6f-e4f4-459f-9d0a-c16c6c068197",
   "metadata": {},
   "source": [
    "#### Splitting of arrays"
   ]
  },
  {
   "cell_type": "code",
   "execution_count": 64,
   "id": "656fddfe-185e-4f05-bd28-8e10f1a003c3",
   "metadata": {},
   "outputs": [
    {
     "name": "stdout",
     "output_type": "stream",
     "text": [
      "[1 2 3] [99 99] [3 2 1]\n"
     ]
    }
   ],
   "source": [
    "x = [1, 2, 3, 99, 99, 3, 2, 1]\n",
    "x1, x2, x3 = np.split(x, [3, 5]) # [3,5]=> 3 no anatiny x1 ka dimy halavan'ilay liste hatrany amin'ny x2 <=> 2 no isan'ny x2.\n",
    "print(x1, x2, x3)"
   ]
  },
  {
   "cell_type": "code",
   "execution_count": 65,
   "id": "dea688c4-36cd-422a-b822-06acc99995e0",
   "metadata": {},
   "outputs": [
    {
     "name": "stdout",
     "output_type": "stream",
     "text": [
      "value of x1 is equal to  [1 2 3]\n"
     ]
    }
   ],
   "source": [
    "print('value of x1 is equal to ', x1)"
   ]
  },
  {
   "cell_type": "code",
   "execution_count": 66,
   "id": "6a147d49-1e0e-469c-bc58-2f128bebc26b",
   "metadata": {},
   "outputs": [
    {
     "data": {
      "text/plain": [
       "array([[ 0,  1,  2,  3],\n",
       "       [ 4,  5,  6,  7],\n",
       "       [ 8,  9, 10, 11],\n",
       "       [12, 13, 14, 15]])"
      ]
     },
     "execution_count": 66,
     "metadata": {},
     "output_type": "execute_result"
    }
   ],
   "source": [
    "grid = np.arange(16).reshape((4, 4))\n",
    "grid"
   ]
  },
  {
   "cell_type": "code",
   "execution_count": 67,
   "id": "2bdcc42f-c953-47d2-8da9-5ea157540e39",
   "metadata": {},
   "outputs": [
    {
     "name": "stdout",
     "output_type": "stream",
     "text": [
      "[[0 1 2 3]\n",
      " [4 5 6 7]]\n",
      "[[ 8  9 10 11]\n",
      " [12 13 14 15]]\n"
     ]
    }
   ],
   "source": [
    "upper, lower = np.vsplit(grid, [2]) #ligne io [2] io eto\n",
    "print(upper)\n",
    "print(lower)"
   ]
  },
  {
   "cell_type": "code",
   "execution_count": 68,
   "id": "a0a0a83a-8679-49a7-8819-c8e0ea950157",
   "metadata": {},
   "outputs": [
    {
     "name": "stdout",
     "output_type": "stream",
     "text": [
      "[[ 0  1  2  3]\n",
      " [ 4  5  6  7]\n",
      " [ 8  9 10 11]]\n",
      "[[12 13 14 15]]\n"
     ]
    }
   ],
   "source": [
    "upper, lower = np.vsplit(grid, [3]) #ligne io [3] io eto\n",
    "print(upper)\n",
    "print(lower)"
   ]
  },
  {
   "cell_type": "code",
   "execution_count": 69,
   "id": "f721d808-c93f-443c-a71f-5ad59de1740d",
   "metadata": {},
   "outputs": [
    {
     "name": "stdout",
     "output_type": "stream",
     "text": [
      "[[0 1 2 3]]\n",
      "[[ 4  5  6  7]\n",
      " [ 8  9 10 11]\n",
      " [12 13 14 15]]\n"
     ]
    }
   ],
   "source": [
    "upper, lower = np.vsplit(grid, [1]) #ligne io [1] io eto\n",
    "print(upper)\n",
    "print(lower)"
   ]
  },
  {
   "cell_type": "code",
   "execution_count": 70,
   "id": "c779c7de-6117-4a88-ae32-71caa632cc0b",
   "metadata": {},
   "outputs": [
    {
     "name": "stdout",
     "output_type": "stream",
     "text": [
      "[[ 0  1]\n",
      " [ 4  5]\n",
      " [ 8  9]\n",
      " [12 13]]\n",
      "[[ 2  3]\n",
      " [ 6  7]\n",
      " [10 11]\n",
      " [14 15]]\n"
     ]
    }
   ],
   "source": [
    "left, right = np.hsplit(grid, [2]) #colonne io [2] io eto\n",
    "print(left)\n",
    "print(right)"
   ]
  },
  {
   "cell_type": "code",
   "execution_count": 72,
   "id": "b7921216-e2c0-40e7-b3f8-d2b1c05f2164",
   "metadata": {},
   "outputs": [
    {
     "name": "stdout",
     "output_type": "stream",
     "text": [
      "[[ 0]\n",
      " [ 4]\n",
      " [ 8]\n",
      " [12]]\n",
      "[[ 1  2  3]\n",
      " [ 5  6  7]\n",
      " [ 9 10 11]\n",
      " [13 14 15]]\n"
     ]
    }
   ],
   "source": [
    "left, right = np.hsplit(grid, [1]) #colonne io [1] io eto\n",
    "print(left)\n",
    "print(right)"
   ]
  },
  {
   "cell_type": "code",
   "execution_count": 73,
   "id": "1caa247b-007f-48d1-8007-ba1d9fe6fb27",
   "metadata": {},
   "outputs": [
    {
     "name": "stdout",
     "output_type": "stream",
     "text": [
      "[[ 0  1  2]\n",
      " [ 4  5  6]\n",
      " [ 8  9 10]\n",
      " [12 13 14]]\n",
      "[[ 3]\n",
      " [ 7]\n",
      " [11]\n",
      " [15]]\n"
     ]
    }
   ],
   "source": [
    "left, right = np.hsplit(grid, [3]) #colonne io [3] io eto\n",
    "print(left)\n",
    "print(right)"
   ]
  },
  {
   "cell_type": "markdown",
   "id": "065b1aa4-0ade-4407-8ef9-a160ac530629",
   "metadata": {},
   "source": [
    "## Computation on NumPy Arrays"
   ]
  },
  {
   "cell_type": "markdown",
   "id": "0ed48c02-290d-406c-868f-d961f3eb6f9c",
   "metadata": {},
   "source": [
    "### Universal Function"
   ]
  },
  {
   "cell_type": "markdown",
   "id": "928f4966-aab6-414c-9583-7459d8a34cd1",
   "metadata": {},
   "source": [
    "<div class=\"alert alert-block alert alert-block alert-success\">\n",
    "<b>Computation on NumPy arrays:</b><br>\n",
    "Computation on NumPy arrays can be very fast, or it can be very slow. The key to\n",
    "making it fast is to use vectorized operations, generally implemented through Num‐\n",
    "Py’s universal functions (ufuncs). This section motivates the need for NumPy’s ufuncs,\n",
    "which can be used to make repeated calculations on array elements much more effi‐\n",
    "cient. It then introduces many of the most common and useful arithmetic ufuncs\n",
    "available in the NumPy package\n",
    "</div>"
   ]
  },
  {
   "cell_type": "markdown",
   "id": "7e5ad06f-4437-4ba3-93eb-4e5a5a48f271",
   "metadata": {},
   "source": [
    "- Ufuncs exist in two flavors: unary ufuncs, which operate on a single input, and binary ufuncs, which operate on two inputs. We’ll see examples of both these types of functions here"
   ]
  },
  {
   "cell_type": "markdown",
   "id": "60174f35-e642-4158-9fd4-0cb1f02a1fe3",
   "metadata": {},
   "source": [
    "#### Array arithmetic"
   ]
  },
  {
   "cell_type": "code",
   "execution_count": 74,
   "id": "ebdc418f-e8b4-4676-8038-d2bdc2b1022f",
   "metadata": {},
   "outputs": [
    {
     "name": "stdout",
     "output_type": "stream",
     "text": [
      "x = [0 1 2 3]\n"
     ]
    }
   ],
   "source": [
    "x = np.arange(4)\n",
    "print(\"x =\", x)"
   ]
  },
  {
   "cell_type": "code",
   "execution_count": 75,
   "id": "ce57a68f-6d64-4ece-9e61-ef18328aa717",
   "metadata": {},
   "outputs": [
    {
     "name": "stdout",
     "output_type": "stream",
     "text": [
      "x + 5 = [5 6 7 8]\n",
      "x - 5 = [-5 -4 -3 -2]\n",
      "x * 2 = [0 2 4 6]\n",
      "x / 2 = [0.  0.5 1.  1.5]\n",
      "x // 2 = [0 0 1 1]\n"
     ]
    }
   ],
   "source": [
    "print(\"x + 5 =\", x + 5)\n",
    "print(\"x - 5 =\", x - 5)\n",
    "print(\"x * 2 =\", x * 2)\n",
    "print(\"x / 2 =\", x / 2)\n",
    "print(\"x // 2 =\", x // 2) # floor division"
   ]
  },
  {
   "cell_type": "code",
   "execution_count": 76,
   "id": "31a29b02-abe3-4e9a-b68d-86310c0477c2",
   "metadata": {},
   "outputs": [
    {
     "name": "stdout",
     "output_type": "stream",
     "text": [
      "-x =  [ 0 -1 -2 -3]\n",
      "x ** 2 =  [0 1 4 9]\n",
      "x % 2 =  [0 1 0 1]\n"
     ]
    }
   ],
   "source": [
    "print(\"-x = \", -x)\n",
    "print(\"x ** 2 = \", x ** 2)\n",
    "print(\"x % 2 = \", x % 2)"
   ]
  },
  {
   "cell_type": "code",
   "execution_count": 77,
   "id": "d828f1d7-cb25-460e-8674-808d33f5eee5",
   "metadata": {},
   "outputs": [
    {
     "data": {
      "text/plain": [
       "array([-1.  , -2.25, -4.  , -6.25])"
      ]
     },
     "execution_count": 77,
     "metadata": {},
     "output_type": "execute_result"
    }
   ],
   "source": [
    "-(0.5*x + 1)** 2 #strange in IT -a^n != a^n but (-a)^n = (a)^n. So, pay attention :)"
   ]
  },
  {
   "cell_type": "code",
   "execution_count": 78,
   "id": "8fe093ee-f39a-43b5-b2ca-6777cdef71cb",
   "metadata": {},
   "outputs": [
    {
     "data": {
      "text/plain": [
       "array([5, 6, 7, 8])"
      ]
     },
     "execution_count": 78,
     "metadata": {},
     "output_type": "execute_result"
    }
   ],
   "source": [
    "np.add(x, 5)"
   ]
  },
  {
   "cell_type": "markdown",
   "id": "c67d756a-8181-4eeb-9480-cc2b86864a99",
   "metadata": {},
   "source": [
    "#### Absolute value"
   ]
  },
  {
   "cell_type": "code",
   "execution_count": 79,
   "id": "47d6a69d-b513-44ec-816f-96a87613fde4",
   "metadata": {},
   "outputs": [
    {
     "data": {
      "text/plain": [
       "array([2, 1, 0, 1, 2])"
      ]
     },
     "execution_count": 79,
     "metadata": {},
     "output_type": "execute_result"
    }
   ],
   "source": [
    "x = np.array([-2, -1, 0, 1, 2])\n",
    "abs(x)"
   ]
  },
  {
   "cell_type": "code",
   "execution_count": 80,
   "id": "042ff200-b7e0-4823-8ebf-27b05b3f6313",
   "metadata": {},
   "outputs": [
    {
     "data": {
      "text/plain": [
       "array([2, 1, 0, 1, 2])"
      ]
     },
     "execution_count": 80,
     "metadata": {},
     "output_type": "execute_result"
    }
   ],
   "source": [
    "np.absolute(x)"
   ]
  },
  {
   "cell_type": "code",
   "execution_count": 81,
   "id": "666b0d39-5873-42d5-81c2-63f43c5b1f40",
   "metadata": {},
   "outputs": [
    {
     "data": {
      "text/plain": [
       "array([2, 1, 0, 1, 2])"
      ]
     },
     "execution_count": 81,
     "metadata": {},
     "output_type": "execute_result"
    }
   ],
   "source": [
    "np.abs(x)"
   ]
  },
  {
   "cell_type": "code",
   "execution_count": 82,
   "id": "d06bc177-4f0e-4298-bf43-03c2e9904ff8",
   "metadata": {},
   "outputs": [
    {
     "name": "stdout",
     "output_type": "stream",
     "text": [
      "[5. 5. 2. 1.]\n"
     ]
    }
   ],
   "source": [
    "x = np.array([3 - 4j, 4 - 3j, 2 + 0j, 0 + 1j])\n",
    "print(np.abs(x)) #module no resultat havoakan'io"
   ]
  },
  {
   "cell_type": "markdown",
   "id": "b35ef653-890e-434f-83a7-0328db5998de",
   "metadata": {},
   "source": [
    "#### Trigonometric functions"
   ]
  },
  {
   "cell_type": "code",
   "execution_count": 83,
   "id": "0abf3a52-a0d4-4718-b0e8-4d0a4cf6d474",
   "metadata": {},
   "outputs": [
    {
     "name": "stdout",
     "output_type": "stream",
     "text": [
      "[0.         0.78539816 1.57079633 2.35619449 3.14159265]\n"
     ]
    }
   ],
   "source": [
    "theta = np.linspace(0, np.pi, 5) # mizara 5 ny element ao anatiny arrays\n",
    "print(theta)"
   ]
  },
  {
   "cell_type": "code",
   "execution_count": 84,
   "id": "ad2304b8-8db4-4be7-a8a8-e59f945cb29b",
   "metadata": {},
   "outputs": [
    {
     "name": "stdout",
     "output_type": "stream",
     "text": [
      "theta =  [0.         0.78539816 1.57079633 2.35619449 3.14159265]\n",
      "sin(theta) =  [0.00000000e+00 7.07106781e-01 1.00000000e+00 7.07106781e-01\n",
      " 1.22464680e-16]\n",
      "cos(theta) =  [ 1.00000000e+00  7.07106781e-01  6.12323400e-17 -7.07106781e-01\n",
      " -1.00000000e+00]\n",
      "tan(theta) =  [ 0.00000000e+00  1.00000000e+00  1.63312394e+16 -1.00000000e+00\n",
      " -1.22464680e-16]\n"
     ]
    }
   ],
   "source": [
    "print(\"theta = \", theta)\n",
    "print(\"sin(theta) = \", np.sin(theta))\n",
    "print(\"cos(theta) = \", np.cos(theta))\n",
    "print(\"tan(theta) = \", np.tan(theta))"
   ]
  },
  {
   "cell_type": "markdown",
   "id": "be83ce94-3ea8-4c0b-a249-aff22c1dc533",
   "metadata": {},
   "source": [
    " #### Exponents and logarithms"
   ]
  },
  {
   "cell_type": "code",
   "execution_count": 85,
   "id": "d453fad0-ec9a-4910-855e-1f39e0aa8cb8",
   "metadata": {},
   "outputs": [
    {
     "name": "stdout",
     "output_type": "stream",
     "text": [
      "x = [1, 2, 3]\n",
      "e^x = [ 2.71828183  7.3890561  20.08553692]\n",
      "2^x = [2. 4. 8.]\n",
      "3^x = [ 3  9 27]\n"
     ]
    }
   ],
   "source": [
    "x = [1, 2, 3]\n",
    "print(\"x =\", x)\n",
    "print(\"e^x =\", np.exp(x))\n",
    "print(\"2^x =\", np.exp2(x))\n",
    "print(\"3^x =\", np.power(3, x))"
   ]
  },
  {
   "cell_type": "code",
   "execution_count": 86,
   "id": "a53a00d2-c192-4cde-96ae-e7e796d2b94a",
   "metadata": {},
   "outputs": [
    {
     "name": "stdout",
     "output_type": "stream",
     "text": [
      "x = [1, 2, 4, 10]\n",
      "ln(x) = [0.         0.69314718 1.38629436 2.30258509]\n"
     ]
    }
   ],
   "source": [
    "x = [1, 2, 4, 10]\n",
    "print(\"x =\", x)\n",
    "print(\"ln(x) =\", np.log(x))"
   ]
  },
  {
   "cell_type": "code",
   "execution_count": 87,
   "id": "11df1f77-d537-4975-be36-104929ad7aec",
   "metadata": {},
   "outputs": [
    {
     "name": "stdout",
     "output_type": "stream",
     "text": [
      "log2(x) = [0.         1.         2.         3.32192809]\n",
      "log10(x) = [0.         0.30103    0.60205999 1.        ]\n"
     ]
    }
   ],
   "source": [
    "print(\"log2(x) =\", np.log2(x))\n",
    "print(\"log10(x) =\", np.log10(x))"
   ]
  },
  {
   "cell_type": "code",
   "execution_count": 88,
   "id": "3858e1ab-c498-410f-a95a-d55fdd41ce5e",
   "metadata": {},
   "outputs": [
    {
     "name": "stdout",
     "output_type": "stream",
     "text": [
      "exp(x) - 1 = [0.         0.0010005  0.01005017 0.10517092]\n",
      "log(1 + x) = [0.         0.0009995  0.00995033 0.09531018]\n"
     ]
    }
   ],
   "source": [
    "x = [0, 0.001, 0.01, 0.1]\n",
    "print(\"exp(x) - 1 =\", np.expm1(x))\n",
    "print(\"log(1 + x) =\", np.log1p(x))"
   ]
  },
  {
   "cell_type": "markdown",
   "id": "51e2a56a-95dd-4ee2-a0d6-df02c88096a7",
   "metadata": {},
   "source": [
    "|Operator | Equivalent ufunc | Description|\n",
    "|---------|------------------|--------------|\n",
    "| +       | np.add           | addition (e.g, 1 + 1 = 2)|\n",
    "| -       | np.substract     | substraction (e.g, 3 - 2 = 1)|\n",
    "| -       | np.negative      | unary negation (e.g, -2)|\n",
    "| *       | np.multiply      | multiplication (e.g, 2 * 3 = 6)|\n",
    "| /       | np.divide        | division (e.g., 3 / 2 = 1.5)|\n",
    "| //      | np.floor_divide  | floor division (e.g., 3 // 2 = 1)|\n",
    "| **      | np.power         | exponentiation (e.g., 2 ** 3 = 8)|\n",
    "| %       | np.mod           | modulus/remainder (e.g., 9 % 4 = 1)|\n"
   ]
  },
  {
   "cell_type": "markdown",
   "id": "cec0eb62-4917-4cbc-896b-dcc23e8385bb",
   "metadata": {},
   "source": [
    "#### Advanced Ufunc Features\n",
    "*Many NumPy users make use of ufuncs without ever learning their full set of features.\n",
    "We’ll outline a few specialized features of ufuncs here.*"
   ]
  },
  {
   "cell_type": "markdown",
   "id": "f17ef44e-caed-4b68-a343-bcf1966c19a7",
   "metadata": {},
   "source": [
    "#### Specifying output\n",
    "For large calculations, it is sometimes useful to be able to specify the array where the result of the calculation will be stored. Rather than creating a temporary array, you can use this to write computation results directly to the memory location where you’d like them to be. For all ufuncs, you can do this using the out argument of the\n",
    "function:"
   ]
  },
  {
   "cell_type": "code",
   "execution_count": 2,
   "id": "c2e516d3-1459-492f-9283-251f0e66344b",
   "metadata": {},
   "outputs": [
    {
     "name": "stdout",
     "output_type": "stream",
     "text": [
      "[0 1 2 3 4]\n",
      "[ 0. 10. 20. 30. 40.]\n"
     ]
    }
   ],
   "source": [
    "x = np.arange(5)\n",
    "y = np.empty(5)\n",
    "np.multiply(x, 10, out=y)\n",
    "print(x)\n",
    "print(y)"
   ]
  },
  {
   "cell_type": "code",
   "execution_count": 3,
   "id": "b0c4eff2-718e-43cd-90e5-ab37f6e618bb",
   "metadata": {},
   "outputs": [
    {
     "name": "stdout",
     "output_type": "stream",
     "text": [
      "[ 1.  0.  2.  0.  4.  0.  8.  0. 16.  0.]\n"
     ]
    }
   ],
   "source": [
    "y = np.zeros(10)\n",
    "np.power(2, x, out=y[::2])\n",
    "print(y)"
   ]
  },
  {
   "cell_type": "code",
   "execution_count": 19,
   "id": "4b8133f5-d44a-4859-9050-f62a64e20014",
   "metadata": {},
   "outputs": [
    {
     "name": "stdout",
     "output_type": "stream",
     "text": [
      "[ 0.  0.  1.  0.  4.  0.  9.  0. 16.  0.]\n"
     ]
    }
   ],
   "source": [
    "y = np.zeros(10)\n",
    "np.power(x, 2, out=y[::2])\n",
    "print(y)"
   ]
  },
  {
   "cell_type": "markdown",
   "id": "f0490746-73e9-4c08-b21f-acc8053b48d3",
   "metadata": {},
   "source": [
    "#### Aggregates"
   ]
  },
  {
   "cell_type": "code",
   "execution_count": 4,
   "id": "d7724cd0-b31b-4b9a-a96a-a6dcfcb3979c",
   "metadata": {},
   "outputs": [
    {
     "data": {
      "text/plain": [
       "15"
      ]
     },
     "execution_count": 4,
     "metadata": {},
     "output_type": "execute_result"
    }
   ],
   "source": [
    "x = np.arange(1, 6)\n",
    "np.add.reduce(x)"
   ]
  },
  {
   "cell_type": "code",
   "execution_count": 21,
   "id": "2c53c202-0007-4e1a-9d4b-ec269f7c8336",
   "metadata": {},
   "outputs": [
    {
     "data": {
      "text/plain": [
       "120"
      ]
     },
     "execution_count": 21,
     "metadata": {},
     "output_type": "execute_result"
    }
   ],
   "source": [
    "np.multiply.reduce(x)"
   ]
  },
  {
   "cell_type": "code",
   "execution_count": 22,
   "id": "784c8d18-5b99-4f22-b80b-c2b8f1d93d1f",
   "metadata": {},
   "outputs": [
    {
     "data": {
      "text/plain": [
       "array([ 1,  3,  6, 10, 15], dtype=int32)"
      ]
     },
     "execution_count": 22,
     "metadata": {},
     "output_type": "execute_result"
    }
   ],
   "source": [
    "np.add.accumulate(x)"
   ]
  },
  {
   "cell_type": "code",
   "execution_count": 23,
   "id": "ef871d0c-8ae7-42bb-b13e-77b8201524aa",
   "metadata": {},
   "outputs": [
    {
     "data": {
      "text/plain": [
       "array([  1,   2,   6,  24, 120], dtype=int32)"
      ]
     },
     "execution_count": 23,
     "metadata": {},
     "output_type": "execute_result"
    }
   ],
   "source": [
    "np.multiply.accumulate(x)"
   ]
  },
  {
   "cell_type": "markdown",
   "id": "36f9d394-1f87-4760-a948-a91ad6511c3f",
   "metadata": {},
   "source": [
    "##### Outer products "
   ]
  },
  {
   "cell_type": "code",
   "execution_count": 5,
   "id": "116e8cca-bc7d-47bd-ab7e-62012cbd3ab2",
   "metadata": {},
   "outputs": [
    {
     "data": {
      "text/plain": [
       "array([[ 1,  2,  3,  4,  5],\n",
       "       [ 2,  4,  6,  8, 10],\n",
       "       [ 3,  6,  9, 12, 15],\n",
       "       [ 4,  8, 12, 16, 20],\n",
       "       [ 5, 10, 15, 20, 25]])"
      ]
     },
     "execution_count": 5,
     "metadata": {},
     "output_type": "execute_result"
    }
   ],
   "source": [
    "x = np.arange(1, 6)\n",
    "np.multiply.outer(x, x) # azo lazaina produit matrice"
   ]
  },
  {
   "cell_type": "code",
   "execution_count": 25,
   "id": "dc70072a-b072-4a3f-b2cc-6e91779cd516",
   "metadata": {},
   "outputs": [
    {
     "data": {
      "text/plain": [
       "array([[ 2,  3,  4,  5,  6],\n",
       "       [ 3,  4,  5,  6,  7],\n",
       "       [ 4,  5,  6,  7,  8],\n",
       "       [ 5,  6,  7,  8,  9],\n",
       "       [ 6,  7,  8,  9, 10]])"
      ]
     },
     "execution_count": 25,
     "metadata": {},
     "output_type": "execute_result"
    }
   ],
   "source": [
    "x = np.arange(1, 6)\n",
    "np.add.outer(x, x) # tsy mazava loatra"
   ]
  },
  {
   "cell_type": "markdown",
   "id": "23fda9bd-b43b-48b5-8e0e-5b06fb28b1cc",
   "metadata": {},
   "source": [
    "## Aggregations: Min, Max, and Everything In Between"
   ]
  },
  {
   "cell_type": "markdown",
   "id": "2f127edb-7540-4a28-98ee-abe576068170",
   "metadata": {},
   "source": [
    "### Summing the Values in an Array"
   ]
  },
  {
   "cell_type": "code",
   "execution_count": 26,
   "id": "8cfe1053-9c7a-4d90-9968-5840c078b762",
   "metadata": {},
   "outputs": [
    {
     "name": "stdout",
     "output_type": "stream",
     "text": [
      "[0.6867122  0.94235389 0.0149366  0.15981159 0.5050418  0.50590509\n",
      " 0.30050454 0.505755   0.28550538 0.67104172 0.54233636 0.4209932\n",
      " 0.03289642 0.22284876 0.65188825 0.44420279 0.50966314 0.12289482\n",
      " 0.33378796 0.31083819 0.1907367  0.07568497 0.75038047 0.44190081\n",
      " 0.59695913 0.24930214 0.63601808 0.11703828 0.37944697 0.92670116\n",
      " 0.69693397 0.46466145 0.10656393 0.90479822 0.5235903  0.4980945\n",
      " 0.45300412 0.99648554 0.40358276 0.43805763 0.26371243 0.61976356\n",
      " 0.43767443 0.17623465 0.85858999 0.24691529 0.68670538 0.01429013\n",
      " 0.94582704 0.56622485 0.54900787 0.02157504 0.67824199 0.02460405\n",
      " 0.25819016 0.37173209 0.18739403 0.26922925 0.96003186 0.36926906\n",
      " 0.49254948 0.84810205 0.37569318 0.64280981 0.32265427 0.51879358\n",
      " 0.1468445  0.56774891 0.55532276 0.87453441 0.61754905 0.46923536\n",
      " 0.75111131 0.78290042 0.28475841 0.80676315 0.19256392 0.3237703\n",
      " 0.05994247 0.56558526 0.8768214  0.86181279 0.7131041  0.21353614\n",
      " 0.07391886 0.97231413 0.18343291 0.70953496 0.25832047 0.71610363\n",
      " 0.15205746 0.76495499 0.91185447 0.54235588 0.02988377 0.59028662\n",
      " 0.31635774 0.00445325 0.26225286 0.21775074]\n"
     ]
    },
    {
     "data": {
      "text/plain": [
       "46.09541171686257"
      ]
     },
     "execution_count": 26,
     "metadata": {},
     "output_type": "execute_result"
    }
   ],
   "source": [
    "List = np.random.random(100)\n",
    "print(List)\n",
    "sum(List)"
   ]
  },
  {
   "cell_type": "code",
   "execution_count": 27,
   "id": "bcb926d2-decb-4b97-81ba-4c592a6d0946",
   "metadata": {},
   "outputs": [
    {
     "data": {
      "text/plain": [
       "100"
      ]
     },
     "execution_count": 27,
     "metadata": {},
     "output_type": "execute_result"
    }
   ],
   "source": [
    "len(List)"
   ]
  },
  {
   "cell_type": "code",
   "execution_count": 28,
   "id": "63b9d32c-0bde-4ba4-bbb0-ae47e2ff5ac2",
   "metadata": {},
   "outputs": [
    {
     "data": {
      "text/plain": [
       "46.09541171686258"
      ]
     },
     "execution_count": 28,
     "metadata": {},
     "output_type": "execute_result"
    }
   ],
   "source": [
    "np.sum(List)"
   ]
  },
  {
   "cell_type": "markdown",
   "id": "65a97c15-7fa8-4de1-87d1-c3ebf4f0c75b",
   "metadata": {},
   "source": [
    "### Minimum and Maximum"
   ]
  },
  {
   "cell_type": "code",
   "execution_count": 29,
   "id": "949bdec5-603a-40f1-9317-f669019880b0",
   "metadata": {},
   "outputs": [],
   "source": [
    "big_array = np.random.rand(1000000)"
   ]
  },
  {
   "cell_type": "code",
   "execution_count": 30,
   "id": "2b0bef4e-d173-4646-bfe4-34c2780a32d4",
   "metadata": {},
   "outputs": [
    {
     "data": {
      "text/plain": [
       "(1.4461646117291949e-06, 0.9999984334080554)"
      ]
     },
     "execution_count": 30,
     "metadata": {},
     "output_type": "execute_result"
    }
   ],
   "source": [
    "min(big_array), max(big_array)"
   ]
  },
  {
   "cell_type": "code",
   "execution_count": 31,
   "id": "4af666cc-aa8c-458f-8306-31c7d058fcce",
   "metadata": {},
   "outputs": [
    {
     "data": {
      "text/plain": [
       "(1.4461646117291949e-06, 0.9999984334080554)"
      ]
     },
     "execution_count": 31,
     "metadata": {},
     "output_type": "execute_result"
    }
   ],
   "source": [
    "np.min(big_array), np.max(big_array)"
   ]
  },
  {
   "cell_type": "code",
   "execution_count": 32,
   "id": "b304f930-d52d-4016-8e7a-88ea2530ac4d",
   "metadata": {},
   "outputs": [
    {
     "name": "stdout",
     "output_type": "stream",
     "text": [
      "428 ms ± 41.5 ms per loop (mean ± std. dev. of 7 runs, 1 loop each)\n",
      "4.48 ms ± 283 µs per loop (mean ± std. dev. of 7 runs, 100 loops each)\n"
     ]
    }
   ],
   "source": [
    "%timeit min(big_array), max(big_array)\n",
    "%timeit np.min(big_array), np.max(big_array)"
   ]
  },
  {
   "cell_type": "markdown",
   "id": "0f3f2835-2d9f-4058-92d3-90ec7a04ed9f",
   "metadata": {},
   "source": [
    "### Multi dimensional aggregates"
   ]
  },
  {
   "cell_type": "code",
   "execution_count": 7,
   "id": "7bef83b9-9cfb-4424-a24f-e54b422980a4",
   "metadata": {},
   "outputs": [
    {
     "name": "stdout",
     "output_type": "stream",
     "text": [
      "[[0.07000938 0.81716759 0.87321107 0.00924451]\n",
      " [0.82208854 0.45980712 0.98580882 0.41133656]\n",
      " [0.86078363 0.66137968 0.07303482 0.45349471]]\n"
     ]
    }
   ],
   "source": [
    "M = np.random.random((3, 4))\n",
    "print(M)"
   ]
  },
  {
   "cell_type": "code",
   "execution_count": 36,
   "id": "ca07af8f-f92b-45a9-997d-9fb092bf3136",
   "metadata": {},
   "outputs": [
    {
     "data": {
      "text/plain": [
       "0.11330788494853594"
      ]
     },
     "execution_count": 36,
     "metadata": {},
     "output_type": "execute_result"
    }
   ],
   "source": [
    "np.min(M)"
   ]
  },
  {
   "cell_type": "code",
   "execution_count": 37,
   "id": "c8453962-a8ee-4030-96dd-c0a5572c31b4",
   "metadata": {},
   "outputs": [
    {
     "data": {
      "text/plain": [
       "array([0.45966827, 0.11330788, 0.15518608, 0.27150439])"
      ]
     },
     "execution_count": 37,
     "metadata": {},
     "output_type": "execute_result"
    }
   ],
   "source": [
    "np.min(M, axis=0)"
   ]
  },
  {
   "cell_type": "code",
   "execution_count": 38,
   "id": "9696b14a-1c0a-4895-b27d-dd8398767099",
   "metadata": {},
   "outputs": [
    {
     "data": {
      "text/plain": [
       "array([0.45966827, 0.11330788, 0.15518608, 0.27150439])"
      ]
     },
     "execution_count": 38,
     "metadata": {},
     "output_type": "execute_result"
    }
   ],
   "source": [
    "M.min(axis=0)"
   ]
  },
  {
   "cell_type": "code",
   "execution_count": 8,
   "id": "111daeb6-922b-402f-9d47-445240201d56",
   "metadata": {},
   "outputs": [
    {
     "data": {
      "text/plain": [
       "array([0.86078363, 0.81716759, 0.98580882, 0.45349471])"
      ]
     },
     "execution_count": 8,
     "metadata": {},
     "output_type": "execute_result"
    }
   ],
   "source": [
    "M.max(axis=0)"
   ]
  },
  {
   "cell_type": "code",
   "execution_count": 9,
   "id": "0dc73d0f-e792-4d10-a171-ec052b855960",
   "metadata": {},
   "outputs": [
    {
     "data": {
      "text/plain": [
       "array([0.87321107, 0.98580882, 0.86078363])"
      ]
     },
     "execution_count": 9,
     "metadata": {},
     "output_type": "execute_result"
    }
   ],
   "source": [
    "M.max(axis=1)"
   ]
  },
  {
   "cell_type": "code",
   "execution_count": null,
   "id": "12e025c9-c903-415b-a3b2-259a32753da1",
   "metadata": {},
   "outputs": [],
   "source": [
    "M.max(axis=1)"
   ]
  },
  {
   "cell_type": "markdown",
   "id": "db493539-0671-4e96-b74d-ed696621a43f",
   "metadata": {},
   "source": [
    "##  Computation on Arrays: Broadcasting"
   ]
  },
  {
   "cell_type": "markdown",
   "id": "cb273abf-7a05-4634-b934-3f88f1ea6e07",
   "metadata": {},
   "source": [
    "### Introducing Broadcasting"
   ]
  },
  {
   "cell_type": "code",
   "execution_count": 10,
   "id": "e49fd5d2-bb2d-499c-92b6-3a7f40bb1039",
   "metadata": {},
   "outputs": [
    {
     "data": {
      "text/plain": [
       "array([5, 6, 7])"
      ]
     },
     "execution_count": 10,
     "metadata": {},
     "output_type": "execute_result"
    }
   ],
   "source": [
    "a = np.array([0, 1, 2])\n",
    "b = np.array([5, 5, 5])\n",
    "a + b"
   ]
  },
  {
   "cell_type": "code",
   "execution_count": 11,
   "id": "acbc2270-574b-4ff8-9c9a-64c20c013524",
   "metadata": {},
   "outputs": [
    {
     "data": {
      "text/plain": [
       "array([5, 6, 7])"
      ]
     },
     "execution_count": 11,
     "metadata": {},
     "output_type": "execute_result"
    }
   ],
   "source": [
    "a + 5"
   ]
  },
  {
   "cell_type": "code",
   "execution_count": 12,
   "id": "113aeef5-4910-45a8-8f39-4ee938721e8b",
   "metadata": {},
   "outputs": [
    {
     "data": {
      "text/plain": [
       "array([[1., 1., 1.],\n",
       "       [1., 1., 1.],\n",
       "       [1., 1., 1.]])"
      ]
     },
     "execution_count": 12,
     "metadata": {},
     "output_type": "execute_result"
    }
   ],
   "source": [
    "M = np.ones((3, 3))\n",
    "M"
   ]
  },
  {
   "cell_type": "code",
   "execution_count": 13,
   "id": "538bc4ed-17db-45d5-b65c-88d1bd18d340",
   "metadata": {},
   "outputs": [
    {
     "data": {
      "text/plain": [
       "array([[1., 2., 3.],\n",
       "       [1., 2., 3.],\n",
       "       [1., 2., 3.]])"
      ]
     },
     "execution_count": 13,
     "metadata": {},
     "output_type": "execute_result"
    }
   ],
   "source": [
    "M + a"
   ]
  },
  {
   "cell_type": "code",
   "execution_count": 14,
   "id": "46a1d9aa-867b-4a72-b30f-1d4b65c5a4f1",
   "metadata": {},
   "outputs": [
    {
     "name": "stdout",
     "output_type": "stream",
     "text": [
      "[0 1 2]\n",
      "[[0]\n",
      " [1]\n",
      " [2]]\n"
     ]
    }
   ],
   "source": [
    "a = np.arange(3)\n",
    "b = np.arange(3)[:, np.newaxis]\n",
    "print(a)\n",
    "print(b)"
   ]
  },
  {
   "cell_type": "code",
   "execution_count": 15,
   "id": "2b6cb6a5-c457-4cd3-985c-8e7c23d59621",
   "metadata": {},
   "outputs": [
    {
     "data": {
      "text/plain": [
       "array([[0, 1, 2],\n",
       "       [1, 2, 3],\n",
       "       [2, 3, 4]])"
      ]
     },
     "execution_count": 15,
     "metadata": {},
     "output_type": "execute_result"
    }
   ],
   "source": [
    "a + b"
   ]
  },
  {
   "cell_type": "markdown",
   "id": "122965fa-7a65-4aa6-8397-65eb42075869",
   "metadata": {},
   "source": [
    "### Rules of Broadcasting"
   ]
  },
  {
   "cell_type": "markdown",
   "id": "fcd9ae1f-f74a-4801-ab22-2faad8f861e9",
   "metadata": {},
   "source": [
    "+  Rule 1: If the two arrays differ in their number of dimensions, the shape of the one with fewer dimensions is padded with ones on its leading (left) side.\n",
    "+ Rule 2: If the shape of the two arrays does not match in any dimension, the array with shape equal to 1 in that dimension is stretched to match the other shape.\n",
    "+ Rule 3: If in any dimension the sizes disagree and neither is equal to 1, an error is raised."
   ]
  },
  {
   "cell_type": "code",
   "execution_count": 16,
   "id": "c1e5fdaf-3ef0-4d13-b218-54c6c09af961",
   "metadata": {},
   "outputs": [],
   "source": [
    "M = np.ones((2, 3))\n",
    "a = np.arange(3)"
   ]
  },
  {
   "cell_type": "markdown",
   "id": "601496f9-43d7-4216-8710-18b8c4dbe264",
   "metadata": {},
   "source": [
    "**Broadcasting example 1**"
   ]
  },
  {
   "cell_type": "code",
   "execution_count": 17,
   "id": "4ba975ae-1d24-46c1-8a90-5a264faf6097",
   "metadata": {},
   "outputs": [
    {
     "data": {
      "text/plain": [
       "array([[1., 2., 3.],\n",
       "       [1., 2., 3.]])"
      ]
     },
     "execution_count": 17,
     "metadata": {},
     "output_type": "execute_result"
    }
   ],
   "source": [
    "M + a"
   ]
  },
  {
   "cell_type": "markdown",
   "id": "b1a9d5b1-652c-46eb-a4b9-8e67e4905dc3",
   "metadata": {},
   "source": [
    "**Broadcasting example 2**"
   ]
  },
  {
   "cell_type": "code",
   "execution_count": 18,
   "id": "b083a112-e5c5-4614-9978-c5e1dba4ac05",
   "metadata": {},
   "outputs": [
    {
     "data": {
      "text/plain": [
       "array([[0, 1, 2],\n",
       "       [1, 2, 3],\n",
       "       [2, 3, 4]])"
      ]
     },
     "execution_count": 18,
     "metadata": {},
     "output_type": "execute_result"
    }
   ],
   "source": [
    "a = np.arange(3).reshape((3, 1))\n",
    "b = np.arange(3)\n",
    "a + b"
   ]
  },
  {
   "cell_type": "markdown",
   "id": "f404fa55-4788-433b-a6dc-05dace549637",
   "metadata": {},
   "source": [
    "**Broadcasting example 3**"
   ]
  },
  {
   "cell_type": "code",
   "execution_count": 2,
   "id": "70b00100-ad66-4ef5-833e-1cdc9b1e9c86",
   "metadata": {},
   "outputs": [
    {
     "data": {
      "text/plain": [
       "(3, 1)"
      ]
     },
     "execution_count": 2,
     "metadata": {},
     "output_type": "execute_result"
    }
   ],
   "source": [
    "M = np.ones((3, 2))\n",
    "a = np.arange(3)\n",
    "a[:, np.newaxis].shape"
   ]
  },
  {
   "cell_type": "code",
   "execution_count": 22,
   "id": "dff49966-f522-4fa4-a3bb-d0d396336cd6",
   "metadata": {},
   "outputs": [
    {
     "data": {
      "text/plain": [
       "array([0, 1, 2])"
      ]
     },
     "execution_count": 22,
     "metadata": {},
     "output_type": "execute_result"
    }
   ],
   "source": [
    "a"
   ]
  },
  {
   "cell_type": "code",
   "execution_count": 24,
   "id": "a599b2b0-5e41-4511-b19d-b6365bbb5148",
   "metadata": {},
   "outputs": [
    {
     "data": {
      "text/plain": [
       "(3, 2)"
      ]
     },
     "execution_count": 24,
     "metadata": {},
     "output_type": "execute_result"
    }
   ],
   "source": [
    "M.shape"
   ]
  },
  {
   "cell_type": "code",
   "execution_count": 25,
   "id": "4ed50294-b68f-4c54-8dfc-493314597981",
   "metadata": {},
   "outputs": [
    {
     "data": {
      "text/plain": [
       "array([[0],\n",
       "       [1],\n",
       "       [2]])"
      ]
     },
     "execution_count": 25,
     "metadata": {},
     "output_type": "execute_result"
    }
   ],
   "source": [
    "a[:, np.newaxis]"
   ]
  },
  {
   "cell_type": "code",
   "execution_count": 26,
   "id": "04313b96-dbe4-4029-be2d-65b454ac57ca",
   "metadata": {},
   "outputs": [
    {
     "data": {
      "text/plain": [
       "array([[1., 1.],\n",
       "       [2., 2.],\n",
       "       [3., 3.]])"
      ]
     },
     "execution_count": 26,
     "metadata": {},
     "output_type": "execute_result"
    }
   ],
   "source": [
    "M + a[:, np.newaxis]"
   ]
  },
  {
   "cell_type": "code",
   "execution_count": 3,
   "id": "1f36b559-4f1f-4202-a7cd-54142686b086",
   "metadata": {},
   "outputs": [
    {
     "data": {
      "text/plain": [
       "array([[1.31326169, 1.31326169],\n",
       "       [1.69314718, 1.69314718],\n",
       "       [2.31326169, 2.31326169]])"
      ]
     },
     "execution_count": 3,
     "metadata": {},
     "output_type": "execute_result"
    }
   ],
   "source": [
    "np.logaddexp(M, a[:, np.newaxis])"
   ]
  },
  {
   "cell_type": "markdown",
   "id": "1a1ecd35-5712-4e12-9932-5cdc33597df8",
   "metadata": {},
   "source": [
    "### Broadcasting in Practice"
   ]
  },
  {
   "cell_type": "markdown",
   "id": "1b1cde57-e649-4095-8c71-2a34c7478619",
   "metadata": {},
   "source": [
    "#### Centering an array"
   ]
  },
  {
   "cell_type": "code",
   "execution_count": 4,
   "id": "1b0cd98c-8bc6-448a-a993-84c76be866c8",
   "metadata": {},
   "outputs": [
    {
     "data": {
      "text/plain": [
       "array([[0.76164869, 0.07294726, 0.97743319],\n",
       "       [0.15348447, 0.95624795, 0.31767945],\n",
       "       [0.25001232, 0.58108869, 0.04253891],\n",
       "       [0.80111022, 0.71118068, 0.81129984],\n",
       "       [0.02678664, 0.94923045, 0.51809279],\n",
       "       [0.71253469, 0.26959725, 0.17041185],\n",
       "       [0.96061109, 0.01377725, 0.59328817],\n",
       "       [0.35090655, 0.65019082, 0.89613954],\n",
       "       [0.89125687, 0.27318139, 0.34475931],\n",
       "       [0.9538997 , 0.93735916, 0.30861142]])"
      ]
     },
     "execution_count": 4,
     "metadata": {},
     "output_type": "execute_result"
    }
   ],
   "source": [
    "X = np.random.random((10, 3))\n",
    "X"
   ]
  },
  {
   "cell_type": "code",
   "execution_count": 12,
   "id": "4bb13d8f-f496-4143-879b-21f5fb6feccb",
   "metadata": {},
   "outputs": [
    {
     "data": {
      "text/plain": [
       "array([0.58622512, 0.54148009, 0.49802545])"
      ]
     },
     "execution_count": 12,
     "metadata": {},
     "output_type": "execute_result"
    }
   ],
   "source": [
    "Xmean = X.mean(0) # 0 COLUMN\n",
    "Xmean"
   ]
  },
  {
   "cell_type": "code",
   "execution_count": 10,
   "id": "643f1949-b69c-42fb-8945-0f527a33c8a7",
   "metadata": {},
   "outputs": [
    {
     "data": {
      "text/plain": [
       "array([0.96061109, 0.95624795, 0.97743319])"
      ]
     },
     "execution_count": 10,
     "metadata": {},
     "output_type": "execute_result"
    }
   ],
   "source": [
    "XMAX = X.max(0)\n",
    "XMAX"
   ]
  },
  {
   "cell_type": "code",
   "execution_count": 13,
   "id": "dcd7630e-4402-44bb-a7d1-14414eafb437",
   "metadata": {},
   "outputs": [
    {
     "data": {
      "text/plain": [
       "array([ 1.11022302e-17, -1.11022302e-17, -1.11022302e-17])"
      ]
     },
     "execution_count": 13,
     "metadata": {},
     "output_type": "execute_result"
    }
   ],
   "source": [
    "X_centered = X - Xmean\n",
    "X_centered.mean(0)"
   ]
  },
  {
   "cell_type": "markdown",
   "id": "5a83afc6-a818-4e48-ac66-64e29c3e52da",
   "metadata": {},
   "source": [
    "#### Plotting a two-dimensional function"
   ]
  },
  {
   "cell_type": "code",
   "execution_count": 14,
   "id": "968f24c3-afcf-4c05-8093-ef034fa62166",
   "metadata": {},
   "outputs": [],
   "source": [
    "# x and y have 50 steps from 0 to 5\n",
    "x = np.linspace(0, 5, 50)\n",
    "y = np.linspace(0, 5, 50)[:, np.newaxis]\n",
    "z = np.sin(x) ** 10 + np.cos(10 + y * x) * np.cos(x)"
   ]
  },
  {
   "cell_type": "code",
   "execution_count": 15,
   "id": "02e1c5b2-eea0-449c-ab32-5d84dc305acb",
   "metadata": {},
   "outputs": [],
   "source": [
    "%matplotlib inline\n",
    "import matplotlib.pyplot as plt"
   ]
  },
  {
   "cell_type": "code",
   "execution_count": 16,
   "id": "e4432781-f53f-4fad-bd78-f7e6ce682051",
   "metadata": {},
   "outputs": [
    {
     "data": {
      "image/png": "[encoded data removed]",
      "text/plain": [
       "<Figure size 432x288 with 2 Axes>"
      ]
     },
     "metadata": {
      "needs_background": "light"
     },
     "output_type": "display_data"
    }
   ],
   "source": [
    "plt.imshow(z, origin='lower', extent=[0, 5, 0, 5],\n",
    "cmap='viridis')\n",
    "plt.colorbar();"
   ]
  },
  {
   "cell_type": "markdown",
   "id": "b6a8f4d4-0a68-4768-b356-182f559bf7e1",
   "metadata": {},
   "source": [
    "## Comparisons, Masks, and Boolean Logic"
   ]
  },
  {
   "cell_type": "markdown",
   "id": "9a5cd9e1-100b-43e2-bb0e-79bb3d68906e",
   "metadata": {},
   "source": [
    "|Operator| Equivalent ufunc|\n",
    "|--------|-----------------|\n",
    "|==      | np.equal        |\n",
    "| !=     | np.not_equal    |\n",
    "| <      | np.less         |\n",
    "| <=     | np.less_equal   |\n",
    "| >      | np.greater      |\n",
    "| >=     | np.greater_equal|"
   ]
  },
  {
   "cell_type": "code",
   "execution_count": 17,
   "id": "5288b386-11a4-4fda-8c8e-49ca74ddd2a5",
   "metadata": {},
   "outputs": [],
   "source": [
    "rng = np.random.RandomState(0)\n",
    "x = rng.randint(10, size=(3, 4))"
   ]
  },
  {
   "cell_type": "code",
   "execution_count": 18,
   "id": "42736991-df40-4f39-94f8-d3c1ba7bbae9",
   "metadata": {},
   "outputs": [
    {
     "name": "stdout",
     "output_type": "stream",
     "text": [
      "[[5 0 3 3]\n",
      " [7 9 3 5]\n",
      " [2 4 7 6]]\n"
     ]
    }
   ],
   "source": [
    "print(x)"
   ]
  },
  {
   "cell_type": "markdown",
   "id": "c2bc404b-bf68-4c54-8bfd-396fed15d824",
   "metadata": {},
   "source": [
    "### Working with Boolean Arrays"
   ]
  },
  {
   "cell_type": "markdown",
   "id": "a7fd4d2e-69b8-4a7b-b4d4-7eabe59f11fc",
   "metadata": {},
   "source": [
    "##### Counting entries"
   ]
  },
  {
   "cell_type": "code",
   "execution_count": 19,
   "id": "fbc984cc-5bc2-46cc-bba3-3ac7cafe4651",
   "metadata": {},
   "outputs": [
    {
     "data": {
      "text/plain": [
       "8"
      ]
     },
     "execution_count": 19,
     "metadata": {},
     "output_type": "execute_result"
    }
   ],
   "source": [
    "np.count_nonzero(x < 6)"
   ]
  },
  {
   "cell_type": "code",
   "execution_count": 20,
   "id": "afbc220d-c8a2-4250-af92-2bcd2360b937",
   "metadata": {},
   "outputs": [
    {
     "data": {
      "text/plain": [
       "8"
      ]
     },
     "execution_count": 20,
     "metadata": {},
     "output_type": "execute_result"
    }
   ],
   "source": [
    "np.sum(x < 6)"
   ]
  },
  {
   "cell_type": "markdown",
   "id": "692f04e4-195f-422e-bc78-4059125aac8a",
   "metadata": {},
   "source": [
    "- .count_nonzero() ~ .sum()"
   ]
  },
  {
   "cell_type": "code",
   "execution_count": 21,
   "id": "a6d554ce-e690-45e3-9855-773d08f220eb",
   "metadata": {},
   "outputs": [
    {
     "data": {
      "text/plain": [
       "array([4, 2, 2])"
      ]
     },
     "execution_count": 21,
     "metadata": {},
     "output_type": "execute_result"
    }
   ],
   "source": [
    "np.sum(x < 6, axis=1) \n",
    "# how many values less than 6 in each row?"
   ]
  },
  {
   "cell_type": "markdown",
   "id": "5dbbaa52-2738-4e3d-91ee-84ab16df0aa3",
   "metadata": {},
   "source": [
    "*The benefit of sum() is that like with other NumPy aggregation functions, this summation can be done along rows or columns*"
   ]
  },
  {
   "cell_type": "code",
   "execution_count": 22,
   "id": "a91a5faa-5403-4cf4-9ecd-7c2ecf34f2f4",
   "metadata": {},
   "outputs": [
    {
     "data": {
      "text/plain": [
       "True"
      ]
     },
     "execution_count": 22,
     "metadata": {},
     "output_type": "execute_result"
    }
   ],
   "source": [
    "np.any(x > 8)"
   ]
  },
  {
   "cell_type": "code",
   "execution_count": 23,
   "id": "c5cfb69c-3d9f-40d4-be01-7d4dddfe0934",
   "metadata": {},
   "outputs": [
    {
     "data": {
      "text/plain": [
       "False"
      ]
     },
     "execution_count": 23,
     "metadata": {},
     "output_type": "execute_result"
    }
   ],
   "source": [
    "np.any(x < 0)"
   ]
  },
  {
   "cell_type": "code",
   "execution_count": 24,
   "id": "2dc07efa-4285-44c8-a7da-3a6ab0dec4d8",
   "metadata": {},
   "outputs": [
    {
     "data": {
      "text/plain": [
       "False"
      ]
     },
     "execution_count": 24,
     "metadata": {},
     "output_type": "execute_result"
    }
   ],
   "source": [
    "np.any(x == None)"
   ]
  },
  {
   "cell_type": "code",
   "execution_count": 25,
   "id": "170e04bb-a2e9-4570-abf5-fa50b2cf673f",
   "metadata": {},
   "outputs": [
    {
     "data": {
      "text/plain": [
       "True"
      ]
     },
     "execution_count": 25,
     "metadata": {},
     "output_type": "execute_result"
    }
   ],
   "source": [
    "np.all(x < 10)"
   ]
  },
  {
   "cell_type": "code",
   "execution_count": 26,
   "id": "613c26ff-9d8a-4825-beb6-9c9a986269ea",
   "metadata": {},
   "outputs": [
    {
     "data": {
      "text/plain": [
       "False"
      ]
     },
     "execution_count": 26,
     "metadata": {},
     "output_type": "execute_result"
    }
   ],
   "source": [
    "np.all(x == 6)"
   ]
  },
  {
   "cell_type": "markdown",
   "id": "c5ae3396-66a0-4fd5-ab19-6530ae4fa4de",
   "metadata": {},
   "source": [
    "### Boolean operators"
   ]
  },
  {
   "cell_type": "code",
   "execution_count": 27,
   "id": "f8fb92bd-ef59-4a93-b413-0d5cc918fc96",
   "metadata": {},
   "outputs": [
    {
     "data": {
      "text/plain": [
       "array([[5, 0, 3, 3],\n",
       "       [7, 9, 3, 5],\n",
       "       [2, 4, 7, 6]])"
      ]
     },
     "execution_count": 27,
     "metadata": {},
     "output_type": "execute_result"
    }
   ],
   "source": [
    "x"
   ]
  },
  {
   "cell_type": "code",
   "execution_count": 28,
   "id": "68ed80b1-3fe4-474c-9efe-c5757351f903",
   "metadata": {},
   "outputs": [
    {
     "data": {
      "text/plain": [
       "array([[False,  True,  True,  True],\n",
       "       [False, False,  True, False],\n",
       "       [ True,  True, False, False]])"
      ]
     },
     "execution_count": 28,
     "metadata": {},
     "output_type": "execute_result"
    }
   ],
   "source": [
    "x < 5"
   ]
  },
  {
   "cell_type": "code",
   "execution_count": 29,
   "id": "63200042-6c6a-466c-b64b-4133aaf732a4",
   "metadata": {},
   "outputs": [],
   "source": [
    "z = x[x < 5]"
   ]
  },
  {
   "cell_type": "code",
   "execution_count": 30,
   "id": "b177a1e7-5948-4abd-8ed5-19d3840fd40e",
   "metadata": {},
   "outputs": [
    {
     "name": "stdout",
     "output_type": "stream",
     "text": [
      "[0 3 3 3 2 4]\n"
     ]
    }
   ],
   "source": [
    "print(z)"
   ]
  },
  {
   "cell_type": "markdown",
   "id": "f0e94590-210d-4b3d-8b09-a2f042ae78bb",
   "metadata": {},
   "source": [
    "### Using the Keywords and/or Versus the Operators &/| #####"
   ]
  },
  {
   "cell_type": "code",
   "execution_count": 2,
   "id": "dd943ea5-21fe-48c0-8bab-5d440f356b13",
   "metadata": {},
   "outputs": [
    {
     "data": {
      "text/plain": [
       "False"
      ]
     },
     "execution_count": 2,
     "metadata": {},
     "output_type": "execute_result"
    }
   ],
   "source": [
    "bool(42 and 0)"
   ]
  },
  {
   "cell_type": "code",
   "execution_count": 3,
   "id": "aca4232e-2c20-46eb-84d2-788b0aeac637",
   "metadata": {},
   "outputs": [
    {
     "data": {
      "text/plain": [
       "True"
      ]
     },
     "execution_count": 3,
     "metadata": {},
     "output_type": "execute_result"
    }
   ],
   "source": [
    "bool(42 or 0)"
   ]
  },
  {
   "cell_type": "code",
   "execution_count": 4,
   "id": "202fa477-d95b-44ef-bd25-ca520c469440",
   "metadata": {},
   "outputs": [
    {
     "data": {
      "text/plain": [
       "'0b101010'"
      ]
     },
     "execution_count": 4,
     "metadata": {},
     "output_type": "execute_result"
    }
   ],
   "source": [
    "bin(42)"
   ]
  },
  {
   "cell_type": "code",
   "execution_count": 5,
   "id": "be371db5-84e5-4d02-9cbe-c3fea1291a6e",
   "metadata": {},
   "outputs": [
    {
     "data": {
      "text/plain": [
       "'0b101010'"
      ]
     },
     "execution_count": 5,
     "metadata": {},
     "output_type": "execute_result"
    }
   ],
   "source": [
    "bin(42 & 59)"
   ]
  },
  {
   "cell_type": "code",
   "execution_count": 6,
   "id": "ae31d131-e781-4e1b-adf9-0fb8aa420887",
   "metadata": {},
   "outputs": [
    {
     "data": {
      "text/plain": [
       "'0b101010'"
      ]
     },
     "execution_count": 6,
     "metadata": {},
     "output_type": "execute_result"
    }
   ],
   "source": [
    "bin(42 or 59)"
   ]
  },
  {
   "cell_type": "code",
   "execution_count": 9,
   "id": "f29734d8-3e09-4cdd-979a-2b3830c59e15",
   "metadata": {},
   "outputs": [
    {
     "data": {
      "text/plain": [
       "'0b111011'"
      ]
     },
     "execution_count": 9,
     "metadata": {},
     "output_type": "execute_result"
    }
   ],
   "source": [
    "bin(42 | 59)"
   ]
  },
  {
   "cell_type": "code",
   "execution_count": 10,
   "id": "fe619856-8846-410f-bb08-6ce39c560eb5",
   "metadata": {},
   "outputs": [
    {
     "data": {
      "text/plain": [
       "'0b111011'"
      ]
     },
     "execution_count": 10,
     "metadata": {},
     "output_type": "execute_result"
    }
   ],
   "source": [
    "bin(42 and 59)"
   ]
  },
  {
   "cell_type": "code",
   "execution_count": 11,
   "id": "1d6601c2-51eb-45d5-a2b4-6c638ab39c37",
   "metadata": {},
   "outputs": [
    {
     "data": {
      "text/plain": [
       "array([ True,  True,  True, False,  True,  True])"
      ]
     },
     "execution_count": 11,
     "metadata": {},
     "output_type": "execute_result"
    }
   ],
   "source": [
    "A = np.array([1, 0, 1, 0, 1, 0], dtype=bool)\n",
    "B = np.array([1, 1, 1, 0, 1, 1], dtype=bool)\n",
    "A | B\n"
   ]
  },
  {
   "cell_type": "code",
   "execution_count": 14,
   "id": "12df71c6-bd0e-438b-9bf5-c16d5f5ae094",
   "metadata": {},
   "outputs": [
    {
     "data": {
      "text/plain": [
       "array([ True, False,  True, False,  True, False])"
      ]
     },
     "execution_count": 14,
     "metadata": {},
     "output_type": "execute_result"
    }
   ],
   "source": [
    "A = np.array([1, 0, 1, 0, 1, 0], dtype=bool)\n",
    "B = np.array([1, 1, 1, 0, 1, 1], dtype=bool)\n",
    "A & B"
   ]
  },
  {
   "cell_type": "markdown",
   "id": "c869b416-b496-44e5-b4db-7e594b9ebc07",
   "metadata": {},
   "source": [
    "**When doing a Boolean expression on a given array, you should use | or &\n",
    "rather than or or and**"
   ]
  },
  {
   "cell_type": "code",
   "execution_count": 15,
   "id": "81923e92-f444-45fe-8b10-9632441d7ef1",
   "metadata": {},
   "outputs": [
    {
     "data": {
      "text/plain": [
       "array([False, False, False, False, False,  True,  True,  True, False,\n",
       "       False])"
      ]
     },
     "execution_count": 15,
     "metadata": {},
     "output_type": "execute_result"
    }
   ],
   "source": [
    "x = np.arange(10)\n",
    "(x > 4) & (x < 8)"
   ]
  },
  {
   "cell_type": "markdown",
   "id": "5dea19f4-de1c-4fd6-86bd-2b5eee97ffb0",
   "metadata": {},
   "source": [
    "## Fancy Indexing ~ subarray"
   ]
  },
  {
   "cell_type": "markdown",
   "id": "e718a2bb-00ae-4887-b004-88494fc08e77",
   "metadata": {},
   "source": [
    "*Fancy indexing is conceptually simple: it means passing an array of indices to access\n",
    "multiple array elements at once.*"
   ]
  },
  {
   "cell_type": "markdown",
   "id": "c5280653-1197-4a1c-9095-7c8203340094",
   "metadata": {},
   "source": [
    "### Exploring Fancy Indexing"
   ]
  },
  {
   "cell_type": "code",
   "execution_count": 16,
   "id": "48089aae-a8c3-40de-932d-a76400c3579c",
   "metadata": {},
   "outputs": [
    {
     "name": "stdout",
     "output_type": "stream",
     "text": [
      "[51 92 14 71 60 20 82 86 74 74]\n"
     ]
    }
   ],
   "source": [
    "import numpy as np\n",
    "rand = np.random.RandomState(42)\n",
    "x = rand.randint(100, size=10)\n",
    "print(x)"
   ]
  },
  {
   "cell_type": "code",
   "execution_count": 17,
   "id": "f03385c8-0d1c-40a9-bbc4-67592eb634a6",
   "metadata": {},
   "outputs": [],
   "source": [
    "ind = [3, 7, 4]\n",
    "a=x[ind]"
   ]
  },
  {
   "cell_type": "code",
   "execution_count": 18,
   "id": "c2b249fe-de2d-43ee-ab3c-b4d9a2315d5a",
   "metadata": {},
   "outputs": [
    {
     "data": {
      "text/plain": [
       "array([71, 86, 60])"
      ]
     },
     "execution_count": 18,
     "metadata": {},
     "output_type": "execute_result"
    }
   ],
   "source": [
    "a"
   ]
  },
  {
   "cell_type": "code",
   "execution_count": 19,
   "id": "d0d8c655-e504-4cf2-826c-f51430fb2704",
   "metadata": {},
   "outputs": [
    {
     "data": {
      "text/plain": [
       "array([[71, 86],\n",
       "       [60, 20]])"
      ]
     },
     "execution_count": 19,
     "metadata": {},
     "output_type": "execute_result"
    }
   ],
   "source": [
    "ind = np.array([[3, 7],\n",
    "[4, 5]])\n",
    "x[ind]"
   ]
  },
  {
   "cell_type": "code",
   "execution_count": 20,
   "id": "914187a2-7180-4987-9564-11ef059a82dd",
   "metadata": {},
   "outputs": [
    {
     "data": {
      "text/plain": [
       "array([[ 0,  1,  2,  3],\n",
       "       [ 4,  5,  6,  7],\n",
       "       [ 8,  9, 10, 11]])"
      ]
     },
     "execution_count": 20,
     "metadata": {},
     "output_type": "execute_result"
    }
   ],
   "source": [
    "X = np.arange(12).reshape((3, 4))\n",
    "X"
   ]
  },
  {
   "cell_type": "code",
   "execution_count": 21,
   "id": "3b8f1daa-46f2-4bd4-97e5-8b18c3d5f3c9",
   "metadata": {},
   "outputs": [
    {
     "data": {
      "text/plain": [
       "array([ 2,  5, 11])"
      ]
     },
     "execution_count": 21,
     "metadata": {},
     "output_type": "execute_result"
    }
   ],
   "source": [
    "row = np.array([0, 1, 2])\n",
    "col = np.array([2, 1, 3])\n",
    "X[row, col]"
   ]
  },
  {
   "cell_type": "code",
   "execution_count": 22,
   "id": "afe667e1-cbed-4929-959f-605fb165c1cb",
   "metadata": {},
   "outputs": [
    {
     "data": {
      "text/plain": [
       "array([[ 2,  1,  3],\n",
       "       [ 6,  5,  7],\n",
       "       [10,  9, 11]])"
      ]
     },
     "execution_count": 22,
     "metadata": {},
     "output_type": "execute_result"
    }
   ],
   "source": [
    "X[row[:, np.newaxis], col] \n",
    "# nazava  tamin'ny 30 novembre 14h25"
   ]
  },
  {
   "cell_type": "code",
   "execution_count": 23,
   "id": "aa9d9516-9009-4472-ac38-4cc8357f61a4",
   "metadata": {},
   "outputs": [
    {
     "data": {
      "text/plain": [
       "array([[0],\n",
       "       [1],\n",
       "       [2]])"
      ]
     },
     "execution_count": 23,
     "metadata": {},
     "output_type": "execute_result"
    }
   ],
   "source": [
    "row[:, np.newaxis]"
   ]
  },
  {
   "cell_type": "code",
   "execution_count": 24,
   "id": "329807c0-0781-450e-8352-98cd0cf4f25a",
   "metadata": {},
   "outputs": [
    {
     "data": {
      "text/plain": [
       "array([2, 1, 3])"
      ]
     },
     "execution_count": 24,
     "metadata": {},
     "output_type": "execute_result"
    }
   ],
   "source": [
    "col"
   ]
  },
  {
   "cell_type": "markdown",
   "id": "07bd6daa-62ab-4319-b7a1-4e86ce12dc96",
   "metadata": {},
   "source": [
    "### Combined Indexing"
   ]
  },
  {
   "cell_type": "code",
   "execution_count": 25,
   "id": "6ce1b6fd-f503-4261-a2ab-9ab038874cbb",
   "metadata": {},
   "outputs": [
    {
     "name": "stdout",
     "output_type": "stream",
     "text": [
      "[[ 0  1  2  3]\n",
      " [ 4  5  6  7]\n",
      " [ 8  9 10 11]]\n"
     ]
    }
   ],
   "source": [
    "print(X)"
   ]
  },
  {
   "cell_type": "code",
   "execution_count": 26,
   "id": "e76cc6ad-5b83-49aa-8409-b0b982feb6a7",
   "metadata": {},
   "outputs": [
    {
     "data": {
      "text/plain": [
       "array([[ 6,  4,  5],\n",
       "       [10,  8,  9]])"
      ]
     },
     "execution_count": 26,
     "metadata": {},
     "output_type": "execute_result"
    }
   ],
   "source": [
    "X[1:, [2, 0, 1]]"
   ]
  },
  {
   "cell_type": "code",
   "execution_count": 27,
   "id": "a84b5039-694a-4cf3-b2b6-43a0ce05d0ba",
   "metadata": {},
   "outputs": [
    {
     "data": {
      "text/plain": [
       "array([[ 0,  2],\n",
       "       [ 4,  6],\n",
       "       [ 8, 10]])"
      ]
     },
     "execution_count": 27,
     "metadata": {},
     "output_type": "execute_result"
    }
   ],
   "source": [
    "mask = np.array([1, 0, 1, 0], dtype=bool)\n",
    "X[row[:, np.newaxis], mask]"
   ]
  },
  {
   "cell_type": "code",
   "execution_count": null,
   "id": "c56af516-d51c-49b7-8572-3650e34ef220",
   "metadata": {},
   "outputs": [],
   "source": []
  }
 ],
 "metadata": {
  "kernelspec": {
   "display_name": "Python 3 (ipykernel)",
   "language": "python",
   "name": "python3"
  },
  "language_info": {
   "codemirror_mode": {
    "name": "ipython",
    "version": 3
   },
   "file_extension": ".py",
   "mimetype": "text/x-python",
   "name": "python",
   "nbconvert_exporter": "python",
   "pygments_lexer": "ipython3",
   "version": "3.9.12"
  }
 },
 "nbformat": 4,
 "nbformat_minor": 5
}
