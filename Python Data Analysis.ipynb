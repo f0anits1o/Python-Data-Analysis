{
 "cells": [
  {
   "cell_type": "markdown",
   "id": "260db8f3-a4ec-4d9a-ac0e-e24ae02fd3f7",
   "metadata": {},
   "source": [
    "# Python Data Analysis"
   ]
  },
  {
   "cell_type": "markdown",
   "id": "04a19cf5-7b9a-43b0-b2df-c4603f344d01",
   "metadata": {},
   "source": [
    "## Outline of the Book\n",
    "\n",
    "Each numbered part of this book focuses on a particular package or tool that contributes a fundamental piece of the Python data analysis story, and is broken into short self-contained chapters that each discuss a single concept:\n",
    "\n",
    "- *Part I, Introduction to NumPy*, focuses on the NumPy library, which provides the `ndarray` for efficient storage and manipulation of dense data arrays in Python.\n",
    "- *Part II, Data Manipulation with Pandas*, introduces the Pandas library, which provides the `DataFrame` for efficient storage and manipulation of labeled/columnar data in Python.\n",
    "- *Part III, Visualization with Matplotlib*, concentrates on Matplotlib, a library that provides capabilities for a flexible range of data visualizations in Python.\n",
    "\n",
    ">The PyData world is certainly much larger than these `Three` packages, and is growing every day.\n",
    "With this in mind, I make every attempt throughout this book to provide references to other interesting efforts, projects, and packages that are pushing the boundaries of what can be done in Python.\n",
    "Nevertheless, the packages I concentrate on are currently fundamental to much of the work being done in the Python data analysis space, and I expect they will remain important even as the ecosystem continues growing around them."
   ]
  },
  {
   "cell_type": "markdown",
   "id": "70bbd022-e529-406a-8134-4b6329fac31e",
   "metadata": {},
   "source": [
    "The chapter of Numpy and Pandas, outlines techniques for effectively loading, storing, and manipulating in-memory data in Python.\n",
    "The topic is very broad: datasets can come from a wide range of sources and in a wide range of formats, including collections of documents, collections of images, collections of sound clips, collections of numerical measurements, or nearly anything else.\n",
    "***Despite this apparent heterogeneity, many datasets can be represented fundamentally as arrays of numbers***.\n",
    "\n",
    "`For example`, images—particularly digital images—can be thought of as simply two-dimensional arrays of numbers representing pixel brightness across the area.\n",
    "Sound clips can be thought of as one-dimensional arrays of intensity versus time.\n",
    "Text can be converted in various ways into numerical representations, such as binary digits representing the frequency of certain words or pairs of words.\n",
    "No matter what the data is, the first step in making it analyzable will be to transform it into arrays of numbers.\n",
    "\n",
    "For this reason, efficient storage and manipulation of numerical arrays is absolutely fundamental to the process of doing data science.\n",
    "We'll now take a look at the specialized tools that Python has for handling such numerical arrays: the NumPy package and the Pandas package."
   ]
  },
  {
   "cell_type": "markdown",
   "id": "4c5704d0-102d-4b4e-993c-7091df081c33",
   "metadata": {},
   "source": [
    "## Numpy"
   ]
  },
  {
   "cell_type": "markdown",
   "id": "7c43f621-4dc2-424a-8e4f-bd467039e2a6",
   "metadata": {},
   "source": [
    "NumPy (short for *Numerical Python*) provides an efficient interface to store and operate on dense data **buffers**.\n",
    "In some ways, NumPy arrays are like Python's built-in `list` type, but NumPy arrays provide much more `efficient storage` and `data operations as the arrays grow larger in size`.\n",
    "NumPy arrays form the core of nearly the entire ecosystem of data science tools in Python, **so time spent learning to use NumPy effectively will be valuable no matter what aspect of data science interests you**."
   ]
  },
  {
   "cell_type": "markdown",
   "id": "d0dba307-2a9e-4c64-b085-72483b5fe40f",
   "metadata": {
    "tags": []
   },
   "source": [
    "### The keys to understand Numpy\n",
    "- Python List\n",
    "- Arrays"
   ]
  },
  {
   "cell_type": "markdown",
   "id": "70d78d97-bd24-402f-998b-679dc9a67e40",
   "metadata": {
    "tags": [],
    "toc-hr-collapsed": true
   },
   "source": [
    "### Python List"
   ]
  },
  {
   "cell_type": "markdown",
   "id": "22e30960-428f-4665-82ff-1e8fbc73e058",
   "metadata": {},
   "source": [
    "- Python knows a number of compound data types, used to group together other values. The most versatile is the `list`, which can be written as a list of **comma-separated values** (items) between **square brackets**. Lists might contain items of different types, but usually the items all have the same type. <br>\n",
    "\n",
    "```\n",
    "list1 = ['John', 'Paul', 'George', 'Ringo']\n",
    "```\n",
    "\n",
    "- Lists are mutable ordered containers of other objects."
   ]
  },
  {
   "cell_type": "code",
   "execution_count": 39,
   "id": "c267e622-55a1-42bf-954b-09b764d14a1c",
   "metadata": {},
   "outputs": [
    {
     "data": {
      "text/plain": [
       "[1, 4, 9, 16, 25, 78]"
      ]
     },
     "execution_count": 39,
     "metadata": {},
     "output_type": "execute_result"
    }
   ],
   "source": [
    "squares = [1, 4, 9, 16, 25, 78]\n",
    "squares"
   ]
  },
  {
   "cell_type": "code",
   "execution_count": 19,
   "id": "57825904-1e0f-48e4-809b-a130669a7df7",
   "metadata": {},
   "outputs": [
    {
     "data": {
      "text/plain": [
       "['a', 'b', 'c', 'd', 'e', 'f', 'g']"
      ]
     },
     "execution_count": 19,
     "metadata": {},
     "output_type": "execute_result"
    }
   ],
   "source": [
    "letters = ['a', 'b', 'c', 'd', 'e', 'f', 'g']\n",
    "letters"
   ]
  },
  {
   "cell_type": "code",
   "execution_count": 41,
   "id": "d9a679c0-4e58-44dd-90d0-ae212bcfca81",
   "metadata": {},
   "outputs": [
    {
     "data": {
      "text/plain": [
       "[1, 4, 9, 16, 25, 78, 'a', 'b', 'c', 'd', 'e', 'f', 'g']"
      ]
     },
     "execution_count": 41,
     "metadata": {},
     "output_type": "execute_result"
    }
   ],
   "source": [
    "mixed = [1, 4, 9, 16, 25, 78, 'a', 'b', 'c', 'd', 'e', 'f', 'g']\n",
    "mixed"
   ]
  },
  {
   "cell_type": "markdown",
   "id": "7b3ec822-8b21-41fd-80c2-e3aae7721f1a",
   "metadata": {
    "toc-hr-collapsed": true
   },
   "source": [
    "#### Accessing data from a List\n",
    "- index\n",
    "- slice"
   ]
  },
  {
   "cell_type": "markdown",
   "id": "75014fe0-ae92-4795-917c-10eaff4c2671",
   "metadata": {
    "tags": []
   },
   "source": [
    "##### Index"
   ]
  },
  {
   "cell_type": "code",
   "execution_count": 48,
   "id": "76f56e6d-305d-4aa4-94a3-d0e56301e38f",
   "metadata": {},
   "outputs": [
    {
     "data": {
      "text/plain": [
       "1"
      ]
     },
     "execution_count": 48,
     "metadata": {},
     "output_type": "execute_result"
    }
   ],
   "source": [
    "squares[0] # character in position 0"
   ]
  },
  {
   "cell_type": "code",
   "execution_count": 52,
   "id": "daf80364-dbc1-49a3-9e7a-90ac7565595e",
   "metadata": {},
   "outputs": [
    {
     "data": {
      "text/plain": [
       "16"
      ]
     },
     "execution_count": 52,
     "metadata": {},
     "output_type": "execute_result"
    }
   ],
   "source": [
    "squares[3] # character in position 3"
   ]
  },
  {
   "cell_type": "code",
   "execution_count": 49,
   "id": "92e3b137-4cc9-46a6-8131-764c491ad96c",
   "metadata": {},
   "outputs": [
    {
     "data": {
      "text/plain": [
       "78"
      ]
     },
     "execution_count": 49,
     "metadata": {},
     "output_type": "execute_result"
    }
   ],
   "source": [
    "squares[-1] # last character"
   ]
  },
  {
   "cell_type": "code",
   "execution_count": 50,
   "id": "cb35b992-e44d-40b6-8001-bb623a762eb6",
   "metadata": {},
   "outputs": [
    {
     "data": {
      "text/plain": [
       "25"
      ]
     },
     "execution_count": 50,
     "metadata": {},
     "output_type": "execute_result"
    }
   ],
   "source": [
    "squares[-2] # Seconde last character"
   ]
  },
  {
   "cell_type": "markdown",
   "id": "c8616a85-e701-407c-81cf-f0383153d884",
   "metadata": {},
   "source": [
    "##### Slice"
   ]
  },
  {
   "cell_type": "code",
   "execution_count": 35,
   "id": "9ed26185-0c60-45f9-aa41-0a10ecd6e90d",
   "metadata": {},
   "outputs": [
    {
     "data": {
      "text/plain": [
       "[1, 4]"
      ]
     },
     "execution_count": 35,
     "metadata": {},
     "output_type": "execute_result"
    }
   ],
   "source": [
    "squares[0:2] # characters from position 0 (included) to 2 (excluded)"
   ]
  },
  {
   "cell_type": "code",
   "execution_count": 44,
   "id": "ce78baf5-b799-47eb-9e17-c76f3cc626a0",
   "metadata": {},
   "outputs": [
    {
     "data": {
      "text/plain": [
       "[9, 16, 25]"
      ]
     },
     "execution_count": 44,
     "metadata": {},
     "output_type": "execute_result"
    }
   ],
   "source": [
    "squares[2:5] # characters from position 2 (included) to 5 (excluded)\n"
   ]
  },
  {
   "cell_type": "code",
   "execution_count": 42,
   "id": "6ad1b57b-266c-465e-b3dc-d1e1c6caceac",
   "metadata": {},
   "outputs": [
    {
     "data": {
      "text/plain": [
       "[25, 78]"
      ]
     },
     "execution_count": 42,
     "metadata": {},
     "output_type": "execute_result"
    }
   ],
   "source": [
    "squares[4 : ] # characters from position 4 (included) to the end"
   ]
  },
  {
   "cell_type": "code",
   "execution_count": 43,
   "id": "4e8b8000-3240-4113-8f75-b8bf14f76a63",
   "metadata": {},
   "outputs": [
    {
     "data": {
      "text/plain": [
       "[16, 25, 78]"
      ]
     },
     "execution_count": 43,
     "metadata": {},
     "output_type": "execute_result"
    }
   ],
   "source": [
    "squares[-3:] # characters from the third-last (included) to the end"
   ]
  },
  {
   "cell_type": "code",
   "execution_count": 45,
   "id": "cb33f545-e525-435f-b561-739d6d688180",
   "metadata": {},
   "outputs": [
    {
     "data": {
      "text/plain": [
       "[1, 4, 9, 16, 25, 78]"
      ]
     },
     "execution_count": 45,
     "metadata": {},
     "output_type": "execute_result"
    }
   ],
   "source": [
    "squares[:]"
   ]
  },
  {
   "cell_type": "code",
   "execution_count": 46,
   "id": "e7d92f86-f1ca-4521-90d8-e32a9d476af9",
   "metadata": {},
   "outputs": [
    {
     "data": {
      "text/plain": [
       "[1, 9, 25]"
      ]
     },
     "execution_count": 46,
     "metadata": {},
     "output_type": "execute_result"
    }
   ],
   "source": [
    "squares[::2] # 2 ~ pas an'ilay slice"
   ]
  },
  {
   "cell_type": "code",
   "execution_count": 47,
   "id": "8ef49c07-32c1-4292-892b-b2a151a9f696",
   "metadata": {},
   "outputs": [
    {
     "data": {
      "text/plain": [
       "[1, 4, 9, 16, 25, 78, 36, 49, 64, 81, 100]"
      ]
     },
     "execution_count": 47,
     "metadata": {},
     "output_type": "execute_result"
    }
   ],
   "source": [
    "squares + [36, 49, 64, 81, 100] # concatenation"
   ]
  },
  {
   "cell_type": "markdown",
   "id": "b929f6fd-89ae-4bdc-aed2-1c74df7bb802",
   "metadata": {},
   "source": [
    "One way to remember how slices work is to think of the indices as pointing between characters, with the left edge of the first character numbered 0.<br>\n",
    "For example:\n",
    "```\n",
    " +---+---+---+---+---+---+---+\n",
    " | s | q | u | a | r | e | s |\n",
    " +---+---+---+---+---+---+---+\n",
    " 0   1   2   3   4   5   6   7\n",
    "-7  -6  -5  -4  -3  -2  -1\n",
    "```"
   ]
  },
  {
   "cell_type": "markdown",
   "id": "dbd8a08c-e0ae-4335-be4e-481d2588b77d",
   "metadata": {},
   "source": [
    "#### List Constructor Function:"
   ]
  },
  {
   "cell_type": "markdown",
   "id": "1eb4f5d7-7f1f-4582-882a-3bcb3c0f609f",
   "metadata": {},
   "source": [
    ">The list() function can be used to construct a list from an iterable; this means that it can construct a list from `a Tuple, a Dictionary or a Set`. It can also construct a list from anything that implements the iterable protocol."
   ]
  },
  {
   "cell_type": "markdown",
   "id": "234133de-a8fc-4203-adb1-d99fc1d0677d",
   "metadata": {},
   "source": [
    "The signature of the **list() function** is <br>\n",
    "```\n",
    "list(iterable)\n",
    "```\n",
    "For example:"
   ]
  },
  {
   "cell_type": "code",
   "execution_count": 53,
   "id": "c21ae61a-e244-4438-bb58-5208dc9b7968",
   "metadata": {},
   "outputs": [
    {
     "name": "stdout",
     "output_type": "stream",
     "text": [
      "['a', 'e', 'i', 'o', 'u']\n"
     ]
    }
   ],
   "source": [
    "vowelTuple = ('a', 'e', 'i', 'o', 'u')\n",
    "print(list(vowelTuple))"
   ]
  },
  {
   "cell_type": "markdown",
   "id": "d0376431-2f6b-42f6-ac9c-7c8b8cdc5114",
   "metadata": {},
   "source": [
    "#### List Comprehensions\n",
    "Real definition locate in Mathematics (set theory)"
   ]
  },
  {
   "cell_type": "markdown",
   "id": "8ada0432-46d2-4ef8-815c-4a3b75b56b1b",
   "metadata": {},
   "source": [
    "Example 1:"
   ]
  },
  {
   "cell_type": "code",
   "execution_count": 54,
   "id": "88e0b0a0-bb15-4b58-8f48-9b6ab21a5c8b",
   "metadata": {},
   "outputs": [
    {
     "data": {
      "text/plain": [
       "[0, 1, 4, 9, 16, 25, 36, 49, 64, 81]"
      ]
     },
     "execution_count": 54,
     "metadata": {},
     "output_type": "execute_result"
    }
   ],
   "source": [
    "squares = []\n",
    "\n",
    "for x in range(10):\n",
    "    squares.append(x**2)\n",
    "    \n",
    "squares"
   ]
  },
  {
   "cell_type": "code",
   "execution_count": 57,
   "id": "a622e336-601f-441c-9285-02e85f8ccf25",
   "metadata": {},
   "outputs": [
    {
     "data": {
      "text/plain": [
       "[0, 1, 4, 9, 16, 25, 36, 49, 64, 81]"
      ]
     },
     "execution_count": 57,
     "metadata": {},
     "output_type": "execute_result"
    }
   ],
   "source": [
    "squares2 = list(map(lambda x: x**2, range(10)))\n",
    "squares2"
   ]
  },
  {
   "cell_type": "code",
   "execution_count": 60,
   "id": "eed63c81-c97f-4035-93ac-1a707e00b6a2",
   "metadata": {},
   "outputs": [
    {
     "data": {
      "text/plain": [
       "[0, 1, 4, 9, 16, 25, 36, 49, 64, 81]"
      ]
     },
     "execution_count": 60,
     "metadata": {},
     "output_type": "execute_result"
    }
   ],
   "source": [
    "# use List Comprehension\n",
    "squares3 = [x**2 for x in range(10)]\n",
    "squares3"
   ]
  },
  {
   "cell_type": "markdown",
   "id": "63553e6b-37b4-4b3b-a0f3-a8edf7c94ed2",
   "metadata": {},
   "source": [
    "Example 2:"
   ]
  },
  {
   "cell_type": "code",
   "execution_count": 61,
   "id": "56daf8f5-70df-402d-b1d9-4cefa1835f96",
   "metadata": {},
   "outputs": [
    {
     "data": {
      "text/plain": [
       "[(1, 3), (1, 4), (2, 3), (2, 1), (2, 4), (3, 1), (3, 4)]"
      ]
     },
     "execution_count": 61,
     "metadata": {},
     "output_type": "execute_result"
    }
   ],
   "source": [
    "[(x, y) for x in [1,2,3] for y in [3,1,4] if x != y]"
   ]
  },
  {
   "cell_type": "code",
   "execution_count": 64,
   "id": "a40bcce6-683a-4468-987d-5f0616107b96",
   "metadata": {},
   "outputs": [
    {
     "data": {
      "text/plain": [
       "[(1, 3), (1, 4), (2, 3), (2, 1), (2, 4), (3, 1), (3, 4)]"
      ]
     },
     "execution_count": 64,
     "metadata": {},
     "output_type": "execute_result"
    }
   ],
   "source": [
    "combs = []\n",
    "for x in [1,2,3]:\n",
    "    for y in [3,1,4]:\n",
    "        if x != y:\n",
    "            combs.append((x, y))\n",
    "combs"
   ]
  },
  {
   "cell_type": "markdown",
   "id": "83cde221-77b7-4825-936b-dff623570ad0",
   "metadata": {},
   "source": [
    "Example 3:"
   ]
  },
  {
   "cell_type": "code",
   "execution_count": 17,
   "id": "522d3de7-8f03-40e8-ab8b-b88bcc83c417",
   "metadata": {},
   "outputs": [],
   "source": [
    "matrix = [\n",
    "    [1, 2, 3, 4],\n",
    "    [5, 6, 7, 8],\n",
    "    [9, 10, 11, 12],\n",
    "    ]\n"
   ]
  },
  {
   "cell_type": "code",
   "execution_count": 7,
   "id": "68c55654-44ed-4f25-8479-ddfc333ffd03",
   "metadata": {},
   "outputs": [
    {
     "data": {
      "text/plain": [
       "[[1, 5, 9], [2, 6, 10], [3, 7, 11], [4, 8, 12]]"
      ]
     },
     "execution_count": 7,
     "metadata": {},
     "output_type": "execute_result"
    }
   ],
   "source": [
    "[[j[i] for j in matrix] for i in range(4)]"
   ]
  },
  {
   "cell_type": "code",
   "execution_count": 68,
   "id": "b6a2cbe8-0641-4a9a-9e56-71f4d31d73ff",
   "metadata": {},
   "outputs": [
    {
     "data": {
      "text/plain": [
       "[3, 7, 11]"
      ]
     },
     "execution_count": 68,
     "metadata": {},
     "output_type": "execute_result"
    }
   ],
   "source": [
    "[j[2] for j in matrix] # fomba fakana colonne anaty list"
   ]
  },
  {
   "cell_type": "code",
   "execution_count": 69,
   "id": "36febeb1-11cb-46c2-a87e-92021b0747b8",
   "metadata": {},
   "outputs": [
    {
     "data": {
      "text/plain": [
       "[(1, 5, 9), (2, 6, 10), (3, 7, 11), (4, 8, 12)]"
      ]
     },
     "execution_count": 69,
     "metadata": {},
     "output_type": "execute_result"
    }
   ],
   "source": [
    "list(zip(*matrix))"
   ]
  },
  {
   "cell_type": "markdown",
   "id": "ca4a2b2b-bd09-4f2c-9c93-449d99f97c81",
   "metadata": {},
   "source": [
    "**Miscelleaneous**"
   ]
  },
  {
   "cell_type": "code",
   "execution_count": 30,
   "id": "b65be77a-cbd4-4aa6-af7d-e350e07278eb",
   "metadata": {},
   "outputs": [
    {
     "data": {
      "text/plain": [
       "64"
      ]
     },
     "execution_count": 30,
     "metadata": {},
     "output_type": "execute_result"
    }
   ],
   "source": [
    "cubes = [1, 8, 27, 65, 125]\n",
    "4 ** 3  # the cube of 4 is 64, not 65!"
   ]
  },
  {
   "cell_type": "code",
   "execution_count": 32,
   "id": "5d725aea-e6ed-4654-8824-9398202ece70",
   "metadata": {},
   "outputs": [
    {
     "data": {
      "text/plain": [
       "[1, 8, 27, 64, 125]"
      ]
     },
     "execution_count": 32,
     "metadata": {},
     "output_type": "execute_result"
    }
   ],
   "source": [
    "cubes[3] = 64 # replace the wrong value\n",
    "cubes"
   ]
  },
  {
   "cell_type": "markdown",
   "id": "fc53f98b-ffb7-4cb1-a4ed-747f974423d8",
   "metadata": {},
   "source": [
    "### Arrays"
   ]
  },
  {
   "cell_type": "markdown",
   "id": "c43b4702-a546-46b7-81d7-9b15243ae0ef",
   "metadata": {},
   "source": [
    "To understand arrays in Numpy, we need to answer the follow question:\n",
    "- How create Arrays with Numpy?\n",
    "- What the features of Numpy Arrays?\n",
    "- Did Numpy Arrays support computation? (defend your ideas with examples)\n",
    "- Which methodes could I used to accees data in Numpy arrays?\n"
   ]
  },
  {
   "cell_type": "markdown",
   "id": "474cf774-8bdc-4813-8b2a-28f3f3549b7c",
   "metadata": {},
   "source": [
    "#### Creating Arrays with Numpy"
   ]
  },
  {
   "cell_type": "code",
   "execution_count": null,
   "id": "3a90fb93-3cc4-4af7-9f6d-8d8f44dff4b8",
   "metadata": {},
   "outputs": [],
   "source": [
    "            "
   ]
  }
 ],
 "metadata": {
  "kernelspec": {
   "display_name": "Python 3 (ipykernel)",
   "language": "python",
   "name": "python3"
  },
  "language_info": {
   "codemirror_mode": {
    "name": "ipython",
    "version": 3
   },
   "file_extension": ".py",
   "mimetype": "text/x-python",
   "name": "python",
   "nbconvert_exporter": "python",
   "pygments_lexer": "ipython3",
   "version": "3.9.12"
  },
  "toc-autonumbering": true
 },
 "nbformat": 4,
 "nbformat_minor": 5
}
